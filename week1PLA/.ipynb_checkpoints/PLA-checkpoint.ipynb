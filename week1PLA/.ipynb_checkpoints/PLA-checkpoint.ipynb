{
 "cells": [
  {
   "cell_type": "markdown",
   "metadata": {},
   "source": [
    "# 第一个线性感知机算法：PLA"
   ]
  },
  {
   "cell_type": "markdown",
   "metadata": {
    "collapsed": true
   },
   "source": [
    "## 1. 什么是感知机（Perceptron）"
   ]
  },
  {
   "cell_type": "markdown",
   "metadata": {},
   "source": [
    "**PLA**全称是Perceptron Linear Algorithm，即线性感知机算法，属于一种最简单的**感知机**（Perceptron）模型。"
   ]
  },
  {
   "cell_type": "markdown",
   "metadata": {},
   "source": [
    "感知机模型是机器学习二分类问题中的一个非常简单的模型。它的基本结构如下图所示："
   ]
  },
  {
   "cell_type": "markdown",
   "metadata": {},
   "source": [
    "![](img/../pic/1.jpg)"
   ]
  },
  {
   "cell_type": "markdown",
   "metadata": {},
   "source": [
    "其中，$x_i$是输入，$w_i$表示**权重系数**，$b$表示**偏移常数**。感知机的线性输出为："
   ]
  },
  {
   "cell_type": "markdown",
   "metadata": {},
   "source": [
    "$$scores=\\sum_i^Nw_ix_i+b$$"
   ]
  },
  {
   "cell_type": "markdown",
   "metadata": {},
   "source": [
    "为了简化计算，通常我们将$b$作为**权重系数**的一个维度，即$w_0$。同时，将输入$x$扩展一个维度，为1。这样，上式简化为："
   ]
  },
  {
   "cell_type": "markdown",
   "metadata": {},
   "source": [
    "$$scores=\\sum_i^{N+1}w_ix_i$$"
   ]
  },
  {
   "cell_type": "markdown",
   "metadata": {},
   "source": [
    "$scores$是感知机的输出，接下来就要对$scores$进行判断："
   ]
  },
  {
   "cell_type": "markdown",
   "metadata": {},
   "source": [
    "* 若$scores\\geq0$，则$\\hat y=1$（正类）\n",
    "\n",
    "* 若$scores<0$，则$\\hat y=-1$（负类）"
   ]
  },
  {
   "cell_type": "markdown",
   "metadata": {},
   "source": [
    "以上就是线性感知机模型的基本概念，简单来说，它由**线性得分计算**和**阈值比较**两个过程组成，最后根据比较结果判断样本属于正类还是负类。"
   ]
  },
  {
   "cell_type": "markdown",
   "metadata": {},
   "source": [
    "## 2. PLA理论解释"
   ]
  },
  {
   "cell_type": "markdown",
   "metadata": {},
   "source": [
    "对于二分类问题，可以使用感知机模型来解决。PLA的基本原理就是**逐点修正**，首先在超平面上随意取一条分类面，统计分类错误的点；然后随机对某个错误点就行修正，即变换直线的位置，使该错误点得以修正；接着再随机选择一个错误点进行纠正，分类面不断变化，直到所有的点都完全分类正确了，就得到了最佳的分类面。"
   ]
  },
  {
   "cell_type": "markdown",
   "metadata": {},
   "source": [
    "利用二维平面例子来进行解释，第一种情况是错误地将正样本（y=1）分类为负样本（y=-1）。此时，$wx<0$，即$w$与$x$的夹角大于90度，分类线$l$的两侧。修正的方法是让夹角变小，修正$w$值，使二者位于直线同侧："
   ]
  },
  {
   "cell_type": "markdown",
   "metadata": {},
   "source": [
    "$$w:=w+x=w+yx$$"
   ]
  },
  {
   "cell_type": "markdown",
   "metadata": {},
   "source": [
    "修正过程示意图如下所示："
   ]
  },
  {
   "cell_type": "markdown",
   "metadata": {},
   "source": [
    "![](img/../pic/2.jpg)"
   ]
  },
  {
   "cell_type": "markdown",
   "metadata": {
    "collapsed": true
   },
   "source": [
    "第二种情况是错误地将负样本（y=-1）分类为正样本（y=1）。此时，$wx>0$，即$w$与$x$的夹角小于90度，分类线$l$的同一侧。修正的方法是让夹角变大，修正$w$值，使二者位于直线两侧："
   ]
  },
  {
   "cell_type": "markdown",
   "metadata": {},
   "source": [
    "$$w:=w-x=w+yx$$"
   ]
  },
  {
   "cell_type": "markdown",
   "metadata": {},
   "source": [
    "修正过程示意图如下所示："
   ]
  },
  {
   "cell_type": "markdown",
   "metadata": {},
   "source": [
    "![](img/../pic/3.jpg)"
   ]
  },
  {
   "cell_type": "markdown",
   "metadata": {
    "collapsed": true
   },
   "source": [
    "经过两种情况分析，我们发现PLA每次$w$的更新表达式都是一样的：$w:=w+yx$。掌握了每次$w$的优化表达式，那么PLA就能不断地将所有错误的分类样本纠正并分类正确。"
   ]
  },
  {
   "cell_type": "markdown",
   "metadata": {},
   "source": [
    "## 3. 数据准备"
   ]
  },
  {
   "cell_type": "markdown",
   "metadata": {},
   "source": [
    "### 导入数据"
   ]
  },
  {
   "cell_type": "markdown",
   "metadata": {},
   "source": [
    "数据集存放在'../data/'目录下，该数据集包含了100个样本，正负样本各50，特征维度为2。"
   ]
  },
  {
   "cell_type": "code",
   "execution_count": 65,
   "metadata": {},
   "outputs": [],
   "source": [
    "import numpy as np\n",
    "import pandas as pd\n",
    "\n",
    "data = pd.read_csv('./data/data1.csv', header=None)#要想让读取时不将设为标签，即需要设header=None\n",
    "# 样本输入，维度（100，2）\n",
    "X = data.iloc[:,:2].values\n",
    "# 样本输出，维度（100，）\n",
    "y = data.iloc[:,2].values #读取样本输入与输出并以values转化为数组形式"
   ]
  },
  {
   "cell_type": "code",
   "execution_count": 66,
   "metadata": {
    "scrolled": true
   },
   "outputs": [
    {
     "data": {
      "text/plain": [
       "array([[7. , 4.7],\n",
       "       [6.4, 4.5],\n",
       "       [6.9, 4.9],\n",
       "       [5.5, 4. ],\n",
       "       [6.5, 4.6],\n",
       "       [5.7, 4.5],\n",
       "       [6.3, 4.7],\n",
       "       [4.9, 3.3],\n",
       "       [6.6, 4.6],\n",
       "       [5.2, 3.9],\n",
       "       [5. , 3.5],\n",
       "       [5.9, 4.2],\n",
       "       [6. , 4. ],\n",
       "       [6.1, 4.7],\n",
       "       [5.6, 3.6],\n",
       "       [6.7, 4.4],\n",
       "       [5.6, 4.5],\n",
       "       [5.8, 4.1],\n",
       "       [6.2, 4.5],\n",
       "       [5.6, 3.9],\n",
       "       [5.9, 4.8],\n",
       "       [6.1, 4. ],\n",
       "       [6.3, 4.9],\n",
       "       [6.1, 4.7],\n",
       "       [6.4, 4.3],\n",
       "       [6.6, 4.4],\n",
       "       [6.8, 4.8],\n",
       "       [6.7, 5. ],\n",
       "       [6. , 4.5],\n",
       "       [5.7, 3.5],\n",
       "       [5.5, 3.8],\n",
       "       [5.5, 3.7],\n",
       "       [5.8, 3.9],\n",
       "       [6. , 5.1],\n",
       "       [5.4, 4.5],\n",
       "       [6. , 4.5],\n",
       "       [6.7, 4.7],\n",
       "       [6.3, 4.4],\n",
       "       [5.6, 4.1],\n",
       "       [5.5, 4. ],\n",
       "       [5.5, 4.4],\n",
       "       [6.1, 4.6],\n",
       "       [5.8, 4. ],\n",
       "       [5. , 3.3],\n",
       "       [5.6, 4.2],\n",
       "       [5.7, 4.2],\n",
       "       [5.7, 4.2],\n",
       "       [6.2, 4.3],\n",
       "       [5.1, 3. ],\n",
       "       [5.7, 4.1],\n",
       "       [5.1, 1.4],\n",
       "       [4.9, 1.4],\n",
       "       [4.7, 1.3],\n",
       "       [4.6, 1.5],\n",
       "       [5. , 1.4],\n",
       "       [5.4, 1.7],\n",
       "       [4.6, 1.4],\n",
       "       [5. , 1.5],\n",
       "       [4.4, 1.4],\n",
       "       [4.9, 1.5],\n",
       "       [5.4, 1.5],\n",
       "       [4.8, 1.6],\n",
       "       [4.8, 1.4],\n",
       "       [4.3, 1.1],\n",
       "       [5.8, 1.2],\n",
       "       [5.7, 1.5],\n",
       "       [5.4, 1.3],\n",
       "       [5.1, 1.4],\n",
       "       [5.7, 1.7],\n",
       "       [5.1, 1.5],\n",
       "       [5.4, 1.7],\n",
       "       [5.1, 1.5],\n",
       "       [4.6, 1. ],\n",
       "       [5.1, 1.7],\n",
       "       [4.8, 1.9],\n",
       "       [5. , 1.6],\n",
       "       [5. , 1.6],\n",
       "       [5.2, 1.5],\n",
       "       [5.2, 1.4],\n",
       "       [4.7, 1.6],\n",
       "       [4.8, 1.6],\n",
       "       [5.4, 1.5],\n",
       "       [5.2, 1.5],\n",
       "       [5.5, 1.4],\n",
       "       [4.9, 1.5],\n",
       "       [5. , 1.2],\n",
       "       [5.5, 1.3],\n",
       "       [4.9, 1.4],\n",
       "       [4.4, 1.3],\n",
       "       [5.1, 1.5],\n",
       "       [5. , 1.3],\n",
       "       [4.5, 1.3],\n",
       "       [4.4, 1.3],\n",
       "       [5. , 1.6],\n",
       "       [5.1, 1.9],\n",
       "       [4.8, 1.4],\n",
       "       [5.1, 1.6],\n",
       "       [4.6, 1.4],\n",
       "       [5.3, 1.5],\n",
       "       [5. , 1.4]])"
      ]
     },
     "execution_count": 66,
     "metadata": {},
     "output_type": "execute_result"
    }
   ],
   "source": [
    "data.iloc[:, :2].values"
   ]
  },
  {
   "cell_type": "code",
   "execution_count": 67,
   "metadata": {
    "scrolled": true
   },
   "outputs": [
    {
     "data": {
      "text/plain": [
       "array([[7. , 4.7],\n",
       "       [6.4, 4.5],\n",
       "       [6.9, 4.9],\n",
       "       [5.5, 4. ],\n",
       "       [6.5, 4.6],\n",
       "       [5.7, 4.5],\n",
       "       [6.3, 4.7],\n",
       "       [4.9, 3.3],\n",
       "       [6.6, 4.6],\n",
       "       [5.2, 3.9],\n",
       "       [5. , 3.5],\n",
       "       [5.9, 4.2],\n",
       "       [6. , 4. ],\n",
       "       [6.1, 4.7],\n",
       "       [5.6, 3.6],\n",
       "       [6.7, 4.4],\n",
       "       [5.6, 4.5],\n",
       "       [5.8, 4.1],\n",
       "       [6.2, 4.5],\n",
       "       [5.6, 3.9],\n",
       "       [5.9, 4.8],\n",
       "       [6.1, 4. ],\n",
       "       [6.3, 4.9],\n",
       "       [6.1, 4.7],\n",
       "       [6.4, 4.3],\n",
       "       [6.6, 4.4],\n",
       "       [6.8, 4.8],\n",
       "       [6.7, 5. ],\n",
       "       [6. , 4.5],\n",
       "       [5.7, 3.5],\n",
       "       [5.5, 3.8],\n",
       "       [5.5, 3.7],\n",
       "       [5.8, 3.9],\n",
       "       [6. , 5.1],\n",
       "       [5.4, 4.5],\n",
       "       [6. , 4.5],\n",
       "       [6.7, 4.7],\n",
       "       [6.3, 4.4],\n",
       "       [5.6, 4.1],\n",
       "       [5.5, 4. ],\n",
       "       [5.5, 4.4],\n",
       "       [6.1, 4.6],\n",
       "       [5.8, 4. ],\n",
       "       [5. , 3.3],\n",
       "       [5.6, 4.2],\n",
       "       [5.7, 4.2],\n",
       "       [5.7, 4.2],\n",
       "       [6.2, 4.3],\n",
       "       [5.1, 3. ],\n",
       "       [5.7, 4.1],\n",
       "       [5.1, 1.4],\n",
       "       [4.9, 1.4],\n",
       "       [4.7, 1.3],\n",
       "       [4.6, 1.5],\n",
       "       [5. , 1.4],\n",
       "       [5.4, 1.7],\n",
       "       [4.6, 1.4],\n",
       "       [5. , 1.5],\n",
       "       [4.4, 1.4],\n",
       "       [4.9, 1.5],\n",
       "       [5.4, 1.5],\n",
       "       [4.8, 1.6],\n",
       "       [4.8, 1.4],\n",
       "       [4.3, 1.1],\n",
       "       [5.8, 1.2],\n",
       "       [5.7, 1.5],\n",
       "       [5.4, 1.3],\n",
       "       [5.1, 1.4],\n",
       "       [5.7, 1.7],\n",
       "       [5.1, 1.5],\n",
       "       [5.4, 1.7],\n",
       "       [5.1, 1.5],\n",
       "       [4.6, 1. ],\n",
       "       [5.1, 1.7],\n",
       "       [4.8, 1.9],\n",
       "       [5. , 1.6],\n",
       "       [5. , 1.6],\n",
       "       [5.2, 1.5],\n",
       "       [5.2, 1.4],\n",
       "       [4.7, 1.6],\n",
       "       [4.8, 1.6],\n",
       "       [5.4, 1.5],\n",
       "       [5.2, 1.5],\n",
       "       [5.5, 1.4],\n",
       "       [4.9, 1.5],\n",
       "       [5. , 1.2],\n",
       "       [5.5, 1.3],\n",
       "       [4.9, 1.4],\n",
       "       [4.4, 1.3],\n",
       "       [5.1, 1.5],\n",
       "       [5. , 1.3],\n",
       "       [4.5, 1.3],\n",
       "       [4.4, 1.3],\n",
       "       [5. , 1.6],\n",
       "       [5.1, 1.9],\n",
       "       [4.8, 1.4],\n",
       "       [5.1, 1.6],\n",
       "       [4.6, 1.4],\n",
       "       [5.3, 1.5],\n",
       "       [5. , 1.4]])"
      ]
     },
     "execution_count": 67,
     "metadata": {},
     "output_type": "execute_result"
    }
   ],
   "source": [
    "X"
   ]
  },
  {
   "cell_type": "code",
   "execution_count": 68,
   "metadata": {},
   "outputs": [
    {
     "data": {
      "text/plain": [
       "1"
      ]
     },
     "execution_count": 68,
     "metadata": {},
     "output_type": "execute_result"
    }
   ],
   "source": [
    "y[49]"
   ]
  },
  {
   "cell_type": "markdown",
   "metadata": {},
   "source": [
    "### 数据分类与可视化"
   ]
  },
  {
   "cell_type": "markdown",
   "metadata": {},
   "source": [
    "下面我们在二维平面上绘出正负样本的分布情况。"
   ]
  },
  {
   "cell_type": "code",
   "execution_count": 69,
   "metadata": {},
   "outputs": [
    {
     "data": {
      "image/png": "[encoded data removed]",
      "text/plain": [
       "<Figure size 432x288 with 1 Axes>"
      ]
     },
     "metadata": {},
     "output_type": "display_data"
    }
   ],
   "source": [
    "import matplotlib.pyplot as plt\n",
    "\n",
    "#绘制散点图\n",
    "plt.scatter(X[:50, 0], X[:50, 1], s=75, c ='blue', marker = 'o',label = 'Postive')\n",
    "plt.scatter(X[50:, 0], X[50:, 1], s=75, c ='red', marker = 'x', label = 'Negative')\n",
    "plt.xlabel(\"Feature 1\")\n",
    "plt.ylabel('Feature 2')\n",
    "plt.legend(loc = 'upper left') #设定图例位置\n",
    "plt.title('Normalization data')\n",
    "plt.show()"
   ]
  },
  {
   "cell_type": "markdown",
   "metadata": {},
   "source": [
    "## 4. PLA算法"
   ]
  },
  {
   "cell_type": "markdown",
   "metadata": {},
   "source": [
    "### 特征归一化"
   ]
  },
  {
   "cell_type": "markdown",
   "metadata": {},
   "source": [
    "首先分别对两个特征进行归一化处理，即："
   ]
  },
  {
   "cell_type": "markdown",
   "metadata": {},
   "source": [
    "$$X=\\frac{X-\\mu}{\\sigma}$$"
   ]
  },
  {
   "cell_type": "markdown",
   "metadata": {},
   "source": [
    "其中，$\\mu$是特征均值，$\\sigma$是特征标准差。"
   ]
  },
  {
   "cell_type": "code",
   "execution_count": 70,
   "metadata": {},
   "outputs": [
    {
     "data": {
      "image/png": "[encoded data removed]",
      "text/plain": [
       "<Figure size 432x288 with 1 Axes>"
      ]
     },
     "metadata": {},
     "output_type": "display_data"
    }
   ],
   "source": [
    "mu = np.mean(X,axis=0)\n",
    "sigma = np.std(X, axis=0, ddof = 1)\n",
    "X = (X-mu)/sigma\n",
    "\n",
    "#绘制散点图\n",
    "plt.scatter(X[:50, 0], X[:50, 1], s=75, c ='blue', marker = 'o',label = 'Postive')\n",
    "plt.scatter(X[50:, 0], X[50:, 1], s=75, c ='red', marker = 'x', label = 'Negative')\n",
    "plt.xlabel(\"Feature 1\")\n",
    "plt.ylabel('Feature 2')\n",
    "plt.legend(loc = 'upper left') #设定图例位置\n",
    "plt.title('Normalization data')\n",
    "plt.show()\n"
   ]
  },
  {
   "cell_type": "markdown",
   "metadata": {},
   "source": [
    "### 直线初始化"
   ]
  },
  {
   "cell_type": "code",
   "execution_count": 71,
   "metadata": {
    "scrolled": true
   },
   "outputs": [
    {
     "data": {
      "text/plain": [
       "array([[ 2.3827395 ,  1.26867088],\n",
       "       [ 1.44772073,  1.13069689],\n",
       "       [ 2.22690304,  1.40664488],\n",
       "       [ 0.04519257,  0.7857619 ],\n",
       "       [ 1.60355719,  1.19968389],\n",
       "       [ 0.3568655 ,  1.13069689],\n",
       "       [ 1.29188427,  1.26867088],\n",
       "       [-0.8898262 ,  0.30285292],\n",
       "       [ 1.75939366,  1.19968389],\n",
       "       [-0.42231681,  0.7167749 ],\n",
       "       [-0.73398974,  0.44082691],\n",
       "       [ 0.66853842,  0.9237359 ],\n",
       "       [ 0.82437488,  0.7857619 ],\n",
       "       [ 0.98021135,  1.26867088],\n",
       "       [ 0.20102904,  0.50981391],\n",
       "       [ 1.91523012,  1.06170989],\n",
       "       [ 0.20102904,  1.13069689],\n",
       "       [ 0.51270196,  0.8547489 ],\n",
       "       [ 1.13604781,  1.13069689],\n",
       "       [ 0.20102904,  0.7167749 ],\n",
       "       [ 0.66853842,  1.33765788],\n",
       "       [ 0.98021135,  0.7857619 ],\n",
       "       [ 1.29188427,  1.40664488],\n",
       "       [ 0.98021135,  1.26867088],\n",
       "       [ 1.44772073,  0.99272289],\n",
       "       [ 1.75939366,  1.06170989],\n",
       "       [ 2.07106658,  1.33765788],\n",
       "       [ 1.91523012,  1.47563188],\n",
       "       [ 0.82437488,  1.13069689],\n",
       "       [ 0.3568655 ,  0.44082691],\n",
       "       [ 0.04519257,  0.64778791],\n",
       "       [ 0.04519257,  0.57880091],\n",
       "       [ 0.51270196,  0.7167749 ],\n",
       "       [ 0.82437488,  1.54461887],\n",
       "       [-0.11064389,  1.13069689],\n",
       "       [ 0.82437488,  1.13069689],\n",
       "       [ 1.91523012,  1.26867088],\n",
       "       [ 1.29188427,  1.06170989],\n",
       "       [ 0.20102904,  0.8547489 ],\n",
       "       [ 0.04519257,  0.7857619 ],\n",
       "       [ 0.04519257,  1.06170989],\n",
       "       [ 0.98021135,  1.19968389],\n",
       "       [ 0.51270196,  0.7857619 ],\n",
       "       [-0.73398974,  0.30285292],\n",
       "       [ 0.20102904,  0.9237359 ],\n",
       "       [ 0.3568655 ,  0.9237359 ],\n",
       "       [ 0.3568655 ,  0.9237359 ],\n",
       "       [ 1.13604781,  0.99272289],\n",
       "       [-0.57815327,  0.09589193],\n",
       "       [ 0.3568655 ,  0.8547489 ],\n",
       "       [-0.57815327, -1.00790003],\n",
       "       [-0.8898262 , -1.00790003],\n",
       "       [-1.20149912, -1.07688703],\n",
       "       [-1.35733558, -0.93891304],\n",
       "       [-0.73398974, -1.00790003],\n",
       "       [-0.11064389, -0.80093904],\n",
       "       [-1.35733558, -1.00790003],\n",
       "       [-0.73398974, -0.93891304],\n",
       "       [-1.66900851, -1.00790003],\n",
       "       [-0.8898262 , -0.93891304],\n",
       "       [-0.11064389, -0.93891304],\n",
       "       [-1.04566266, -0.86992604],\n",
       "       [-1.04566266, -1.00790003],\n",
       "       [-1.82484497, -1.21486103],\n",
       "       [ 0.51270196, -1.14587403],\n",
       "       [ 0.3568655 , -0.93891304],\n",
       "       [-0.11064389, -1.07688703],\n",
       "       [-0.57815327, -1.00790003],\n",
       "       [ 0.3568655 , -0.80093904],\n",
       "       [-0.57815327, -0.93891304],\n",
       "       [-0.11064389, -0.80093904],\n",
       "       [-0.57815327, -0.93891304],\n",
       "       [-1.35733558, -1.28384802],\n",
       "       [-0.57815327, -0.80093904],\n",
       "       [-1.04566266, -0.66296505],\n",
       "       [-0.73398974, -0.86992604],\n",
       "       [-0.73398974, -0.86992604],\n",
       "       [-0.42231681, -0.93891304],\n",
       "       [-0.42231681, -1.00790003],\n",
       "       [-1.20149912, -0.86992604],\n",
       "       [-1.04566266, -0.86992604],\n",
       "       [-0.11064389, -0.93891304],\n",
       "       [-0.42231681, -0.93891304],\n",
       "       [ 0.04519257, -1.00790003],\n",
       "       [-0.8898262 , -0.93891304],\n",
       "       [-0.73398974, -1.14587403],\n",
       "       [ 0.04519257, -1.07688703],\n",
       "       [-0.8898262 , -1.00790003],\n",
       "       [-1.66900851, -1.07688703],\n",
       "       [-0.57815327, -0.93891304],\n",
       "       [-0.73398974, -1.07688703],\n",
       "       [-1.51317205, -1.07688703],\n",
       "       [-1.66900851, -1.07688703],\n",
       "       [-0.73398974, -0.86992604],\n",
       "       [-0.57815327, -0.66296505],\n",
       "       [-1.04566266, -1.00790003],\n",
       "       [-0.57815327, -0.86992604],\n",
       "       [-1.35733558, -1.00790003],\n",
       "       [-0.26648035, -0.93891304],\n",
       "       [-0.73398974, -1.00790003]])"
      ]
     },
     "execution_count": 71,
     "metadata": {},
     "output_type": "execute_result"
    }
   ],
   "source": [
    "X"
   ]
  },
  {
   "cell_type": "code",
   "execution_count": 72,
   "metadata": {
    "scrolled": true
   },
   "outputs": [
    {
     "data": {
      "text/plain": [
       "array([[ 1.        ,  2.3827395 ,  1.26867088],\n",
       "       [ 1.        ,  1.44772073,  1.13069689],\n",
       "       [ 1.        ,  2.22690304,  1.40664488],\n",
       "       [ 1.        ,  0.04519257,  0.7857619 ],\n",
       "       [ 1.        ,  1.60355719,  1.19968389],\n",
       "       [ 1.        ,  0.3568655 ,  1.13069689],\n",
       "       [ 1.        ,  1.29188427,  1.26867088],\n",
       "       [ 1.        , -0.8898262 ,  0.30285292],\n",
       "       [ 1.        ,  1.75939366,  1.19968389],\n",
       "       [ 1.        , -0.42231681,  0.7167749 ],\n",
       "       [ 1.        , -0.73398974,  0.44082691],\n",
       "       [ 1.        ,  0.66853842,  0.9237359 ],\n",
       "       [ 1.        ,  0.82437488,  0.7857619 ],\n",
       "       [ 1.        ,  0.98021135,  1.26867088],\n",
       "       [ 1.        ,  0.20102904,  0.50981391],\n",
       "       [ 1.        ,  1.91523012,  1.06170989],\n",
       "       [ 1.        ,  0.20102904,  1.13069689],\n",
       "       [ 1.        ,  0.51270196,  0.8547489 ],\n",
       "       [ 1.        ,  1.13604781,  1.13069689],\n",
       "       [ 1.        ,  0.20102904,  0.7167749 ],\n",
       "       [ 1.        ,  0.66853842,  1.33765788],\n",
       "       [ 1.        ,  0.98021135,  0.7857619 ],\n",
       "       [ 1.        ,  1.29188427,  1.40664488],\n",
       "       [ 1.        ,  0.98021135,  1.26867088],\n",
       "       [ 1.        ,  1.44772073,  0.99272289],\n",
       "       [ 1.        ,  1.75939366,  1.06170989],\n",
       "       [ 1.        ,  2.07106658,  1.33765788],\n",
       "       [ 1.        ,  1.91523012,  1.47563188],\n",
       "       [ 1.        ,  0.82437488,  1.13069689],\n",
       "       [ 1.        ,  0.3568655 ,  0.44082691],\n",
       "       [ 1.        ,  0.04519257,  0.64778791],\n",
       "       [ 1.        ,  0.04519257,  0.57880091],\n",
       "       [ 1.        ,  0.51270196,  0.7167749 ],\n",
       "       [ 1.        ,  0.82437488,  1.54461887],\n",
       "       [ 1.        , -0.11064389,  1.13069689],\n",
       "       [ 1.        ,  0.82437488,  1.13069689],\n",
       "       [ 1.        ,  1.91523012,  1.26867088],\n",
       "       [ 1.        ,  1.29188427,  1.06170989],\n",
       "       [ 1.        ,  0.20102904,  0.8547489 ],\n",
       "       [ 1.        ,  0.04519257,  0.7857619 ],\n",
       "       [ 1.        ,  0.04519257,  1.06170989],\n",
       "       [ 1.        ,  0.98021135,  1.19968389],\n",
       "       [ 1.        ,  0.51270196,  0.7857619 ],\n",
       "       [ 1.        , -0.73398974,  0.30285292],\n",
       "       [ 1.        ,  0.20102904,  0.9237359 ],\n",
       "       [ 1.        ,  0.3568655 ,  0.9237359 ],\n",
       "       [ 1.        ,  0.3568655 ,  0.9237359 ],\n",
       "       [ 1.        ,  1.13604781,  0.99272289],\n",
       "       [ 1.        , -0.57815327,  0.09589193],\n",
       "       [ 1.        ,  0.3568655 ,  0.8547489 ],\n",
       "       [ 1.        , -0.57815327, -1.00790003],\n",
       "       [ 1.        , -0.8898262 , -1.00790003],\n",
       "       [ 1.        , -1.20149912, -1.07688703],\n",
       "       [ 1.        , -1.35733558, -0.93891304],\n",
       "       [ 1.        , -0.73398974, -1.00790003],\n",
       "       [ 1.        , -0.11064389, -0.80093904],\n",
       "       [ 1.        , -1.35733558, -1.00790003],\n",
       "       [ 1.        , -0.73398974, -0.93891304],\n",
       "       [ 1.        , -1.66900851, -1.00790003],\n",
       "       [ 1.        , -0.8898262 , -0.93891304],\n",
       "       [ 1.        , -0.11064389, -0.93891304],\n",
       "       [ 1.        , -1.04566266, -0.86992604],\n",
       "       [ 1.        , -1.04566266, -1.00790003],\n",
       "       [ 1.        , -1.82484497, -1.21486103],\n",
       "       [ 1.        ,  0.51270196, -1.14587403],\n",
       "       [ 1.        ,  0.3568655 , -0.93891304],\n",
       "       [ 1.        , -0.11064389, -1.07688703],\n",
       "       [ 1.        , -0.57815327, -1.00790003],\n",
       "       [ 1.        ,  0.3568655 , -0.80093904],\n",
       "       [ 1.        , -0.57815327, -0.93891304],\n",
       "       [ 1.        , -0.11064389, -0.80093904],\n",
       "       [ 1.        , -0.57815327, -0.93891304],\n",
       "       [ 1.        , -1.35733558, -1.28384802],\n",
       "       [ 1.        , -0.57815327, -0.80093904],\n",
       "       [ 1.        , -1.04566266, -0.66296505],\n",
       "       [ 1.        , -0.73398974, -0.86992604],\n",
       "       [ 1.        , -0.73398974, -0.86992604],\n",
       "       [ 1.        , -0.42231681, -0.93891304],\n",
       "       [ 1.        , -0.42231681, -1.00790003],\n",
       "       [ 1.        , -1.20149912, -0.86992604],\n",
       "       [ 1.        , -1.04566266, -0.86992604],\n",
       "       [ 1.        , -0.11064389, -0.93891304],\n",
       "       [ 1.        , -0.42231681, -0.93891304],\n",
       "       [ 1.        ,  0.04519257, -1.00790003],\n",
       "       [ 1.        , -0.8898262 , -0.93891304],\n",
       "       [ 1.        , -0.73398974, -1.14587403],\n",
       "       [ 1.        ,  0.04519257, -1.07688703],\n",
       "       [ 1.        , -0.8898262 , -1.00790003],\n",
       "       [ 1.        , -1.66900851, -1.07688703],\n",
       "       [ 1.        , -0.57815327, -0.93891304],\n",
       "       [ 1.        , -0.73398974, -1.07688703],\n",
       "       [ 1.        , -1.51317205, -1.07688703],\n",
       "       [ 1.        , -1.66900851, -1.07688703],\n",
       "       [ 1.        , -0.73398974, -0.86992604],\n",
       "       [ 1.        , -0.57815327, -0.66296505],\n",
       "       [ 1.        , -1.04566266, -1.00790003],\n",
       "       [ 1.        , -0.57815327, -0.86992604],\n",
       "       [ 1.        , -1.35733558, -1.00790003],\n",
       "       [ 1.        , -0.26648035, -0.93891304],\n",
       "       [ 1.        , -0.73398974, -1.00790003]])"
      ]
     },
     "execution_count": 72,
     "metadata": {},
     "output_type": "execute_result"
    }
   ],
   "source": [
    "#将一列1数字加入作为偏置项w0需要的数字，hstack进行合并\n",
    "X = np.hstack((np.ones((X.shape[0], 1)), X))\n",
    "X"
   ]
  },
  {
   "cell_type": "code",
   "execution_count": 119,
   "metadata": {},
   "outputs": [],
   "source": [
    "#权重初始化\n",
    "w = np.random.randn(3,1)"
   ]
  },
  {
   "cell_type": "code",
   "execution_count": 102,
   "metadata": {},
   "outputs": [
    {
     "data": {
      "text/plain": [
       "array([[ 0.68073321],\n",
       "       [-1.6410814 ],\n",
       "       [-0.72387757]])"
      ]
     },
     "execution_count": 102,
     "metadata": {},
     "output_type": "execute_result"
    }
   ],
   "source": [
    "w"
   ]
  },
  {
   "cell_type": "markdown",
   "metadata": {},
   "source": [
    "显示初始化直线位置："
   ]
  },
  {
   "cell_type": "code",
   "execution_count": 103,
   "metadata": {},
   "outputs": [
    {
     "data": {
      "image/png": "[encoded data removed]",
      "text/plain": [
       "<Figure size 432x288 with 1 Axes>"
      ]
     },
     "metadata": {},
     "output_type": "display_data"
    }
   ],
   "source": [
    "x1 =  -2\n",
    "y1 =-(w[0]*1 + w[1]*x1)/w[2]\n",
    "x2 =  2\n",
    "y2 =-(w[0]*1 + w[1]*x2)/w[2]\n",
    "\n",
    "plt.scatter(X[:50, 1], X[:50, 2], color='blue', marker='o', label='Positive')\n",
    "plt.scatter(X[50:, 1], X[50:, 2], color='red', marker='x', label='Negative')\n",
    "plt.plot([x1, y1], [x2, y2])\n",
    "\n",
    "plt.xlabel('Feature 1')\n",
    "plt.ylabel('Feature 2')\n",
    "plt.legend(loc = 'upper left')\n",
    "plt.show()"
   ]
  },
  {
   "cell_type": "markdown",
   "metadata": {},
   "source": [
    "由上图可见，一般随机生成的分类线，错误率很高。"
   ]
  },
  {
   "cell_type": "markdown",
   "metadata": {},
   "source": [
    "### 计算scores，更新权重"
   ]
  },
  {
   "cell_type": "markdown",
   "metadata": {},
   "source": [
    "接下来，计算scores，得分函数与阈值0做比较，大于零则$\\hat y=1$，小于零则$\\hat y=-1$"
   ]
  },
  {
   "cell_type": "code",
   "execution_count": 104,
   "metadata": {
    "scrolled": true
   },
   "outputs": [
    {
     "data": {
      "text/plain": [
       "array([[-4.14789867],\n",
       "       [-2.51358047],\n",
       "       [-3.99203463],\n",
       "       [ 0.0377731 ],\n",
       "       [-2.81925893],\n",
       "       [-0.72339824],\n",
       "       [-2.35771644],\n",
       "       [ 1.92178199],\n",
       "       [-3.07499925],\n",
       "       [ 0.85493219],\n",
       "       [ 1.56616539],\n",
       "       [-1.08506446],\n",
       "       [-1.2409285 ],\n",
       "       [-1.8462358 ],\n",
       "       [-0.01821466],\n",
       "       [-3.23086329],\n",
       "       [-0.46765792],\n",
       "       [-0.779386  ],\n",
       "       [-2.00209984],\n",
       "       [-0.16802908],\n",
       "       [-1.3846933 ],\n",
       "       [-1.49666882],\n",
       "       [-2.45759272],\n",
       "       [-1.8462358 ],\n",
       "       [-2.41370419],\n",
       "       [-2.97512297],\n",
       "       [-3.68635617],\n",
       "       [-3.53049213],\n",
       "       [-1.4906192 ],\n",
       "       [-0.22401684],\n",
       "       [ 0.13764938],\n",
       "       [ 0.18758752],\n",
       "       [-0.67950972],\n",
       "       [-1.79024804],\n",
       "       [ 0.04382271],\n",
       "       [-1.4906192 ],\n",
       "       [-3.38067771],\n",
       "       [-2.20790201],\n",
       "       [-0.26790536],\n",
       "       [ 0.0377731 ],\n",
       "       [-0.16197946],\n",
       "       [-1.79629766],\n",
       "       [-0.72944786],\n",
       "       [ 1.66604167],\n",
       "       [-0.3178435 ],\n",
       "       [-0.57358382],\n",
       "       [-0.57358382],\n",
       "       [-1.90222355],\n",
       "       [ 1.56011578],\n",
       "       [-0.52364568],\n",
       "       [ 2.35912602],\n",
       "       [ 2.87060666],\n",
       "       [ 3.43202544],\n",
       "       [ 3.58788948],\n",
       "       [ 2.61486634],\n",
       "       [ 1.44209064],\n",
       "       [ 3.63782762],\n",
       "       [ 2.5649282 ],\n",
       "       [ 4.14930825],\n",
       "       [ 2.82066852],\n",
       "       [ 1.54196693],\n",
       "       [ 3.0264707 ],\n",
       "       [ 3.12634698],\n",
       "       [ 4.55486299],\n",
       "       [ 0.66882007],\n",
       "       [ 0.77474597],\n",
       "       [ 1.64184321],\n",
       "       [ 2.35912602],\n",
       "       [ 0.67486969],\n",
       "       [ 2.30918788],\n",
       "       [ 1.44209064],\n",
       "       [ 2.30918788],\n",
       "       [ 3.83758018],\n",
       "       [ 2.2093116 ],\n",
       "       [ 2.87665628],\n",
       "       [ 2.51499006],\n",
       "       [ 2.51499006],\n",
       "       [ 2.05344756],\n",
       "       [ 2.1033857 ],\n",
       "       [ 3.28221102],\n",
       "       [ 3.0264707 ],\n",
       "       [ 1.54196693],\n",
       "       [ 2.05344756],\n",
       "       [ 1.33616475],\n",
       "       [ 2.82066852],\n",
       "       [ 2.71474262],\n",
       "       [ 1.38610289],\n",
       "       [ 2.87060666],\n",
       "       [ 4.19924639],\n",
       "       [ 2.30918788],\n",
       "       [ 2.66480448],\n",
       "       [ 3.94350608],\n",
       "       [ 4.19924639],\n",
       "       [ 2.51499006],\n",
       "       [ 2.10943532],\n",
       "       [ 3.12634698],\n",
       "       [ 2.25924974],\n",
       "       [ 3.63782762],\n",
       "       [ 1.79770724],\n",
       "       [ 2.61486634]])"
      ]
     },
     "execution_count": 104,
     "metadata": {},
     "output_type": "execute_result"
    }
   ],
   "source": [
    "s = np.dot(X, w)\n",
    "s"
   ]
  },
  {
   "cell_type": "code",
   "execution_count": 105,
   "metadata": {
    "scrolled": true
   },
   "outputs": [
    {
     "data": {
      "text/plain": [
       "array([[-4.14789867],\n",
       "       [-2.51358047],\n",
       "       [-3.99203463],\n",
       "       [ 0.0377731 ],\n",
       "       [-2.81925893],\n",
       "       [-0.72339824],\n",
       "       [-2.35771644],\n",
       "       [ 1.92178199],\n",
       "       [-3.07499925],\n",
       "       [ 0.85493219],\n",
       "       [ 1.56616539],\n",
       "       [-1.08506446],\n",
       "       [-1.2409285 ],\n",
       "       [-1.8462358 ],\n",
       "       [-0.01821466],\n",
       "       [-3.23086329],\n",
       "       [-0.46765792],\n",
       "       [-0.779386  ],\n",
       "       [-2.00209984],\n",
       "       [-0.16802908],\n",
       "       [-1.3846933 ],\n",
       "       [-1.49666882],\n",
       "       [-2.45759272],\n",
       "       [-1.8462358 ],\n",
       "       [-2.41370419],\n",
       "       [-2.97512297],\n",
       "       [-3.68635617],\n",
       "       [-3.53049213],\n",
       "       [-1.4906192 ],\n",
       "       [-0.22401684],\n",
       "       [ 0.13764938],\n",
       "       [ 0.18758752],\n",
       "       [-0.67950972],\n",
       "       [-1.79024804],\n",
       "       [ 0.04382271],\n",
       "       [-1.4906192 ],\n",
       "       [-3.38067771],\n",
       "       [-2.20790201],\n",
       "       [-0.26790536],\n",
       "       [ 0.0377731 ],\n",
       "       [-0.16197946],\n",
       "       [-1.79629766],\n",
       "       [-0.72944786],\n",
       "       [ 1.66604167],\n",
       "       [-0.3178435 ],\n",
       "       [-0.57358382],\n",
       "       [-0.57358382],\n",
       "       [-1.90222355],\n",
       "       [ 1.56011578],\n",
       "       [-0.52364568],\n",
       "       [ 2.35912602],\n",
       "       [ 2.87060666],\n",
       "       [ 3.43202544],\n",
       "       [ 3.58788948],\n",
       "       [ 2.61486634],\n",
       "       [ 1.44209064],\n",
       "       [ 3.63782762],\n",
       "       [ 2.5649282 ],\n",
       "       [ 4.14930825],\n",
       "       [ 2.82066852],\n",
       "       [ 1.54196693],\n",
       "       [ 3.0264707 ],\n",
       "       [ 3.12634698],\n",
       "       [ 4.55486299],\n",
       "       [ 0.66882007],\n",
       "       [ 0.77474597],\n",
       "       [ 1.64184321],\n",
       "       [ 2.35912602],\n",
       "       [ 0.67486969],\n",
       "       [ 2.30918788],\n",
       "       [ 1.44209064],\n",
       "       [ 2.30918788],\n",
       "       [ 3.83758018],\n",
       "       [ 2.2093116 ],\n",
       "       [ 2.87665628],\n",
       "       [ 2.51499006],\n",
       "       [ 2.51499006],\n",
       "       [ 2.05344756],\n",
       "       [ 2.1033857 ],\n",
       "       [ 3.28221102],\n",
       "       [ 3.0264707 ],\n",
       "       [ 1.54196693],\n",
       "       [ 2.05344756],\n",
       "       [ 1.33616475],\n",
       "       [ 2.82066852],\n",
       "       [ 2.71474262],\n",
       "       [ 1.38610289],\n",
       "       [ 2.87060666],\n",
       "       [ 4.19924639],\n",
       "       [ 2.30918788],\n",
       "       [ 2.66480448],\n",
       "       [ 3.94350608],\n",
       "       [ 4.19924639],\n",
       "       [ 2.51499006],\n",
       "       [ 2.10943532],\n",
       "       [ 3.12634698],\n",
       "       [ 2.25924974],\n",
       "       [ 3.63782762],\n",
       "       [ 1.79770724],\n",
       "       [ 2.61486634]])"
      ]
     },
     "execution_count": 105,
     "metadata": {},
     "output_type": "execute_result"
    }
   ],
   "source": [
    "s"
   ]
  },
  {
   "cell_type": "code",
   "execution_count": 108,
   "metadata": {},
   "outputs": [],
   "source": [
    "#按照输入格式初始化预测y_pred\n",
    "y_pred = np.ones_like(y)"
   ]
  },
  {
   "cell_type": "code",
   "execution_count": 111,
   "metadata": {},
   "outputs": [
    {
     "data": {
      "text/plain": [
       "array([-1, -1, -1,  1, -1, -1, -1,  1, -1,  1,  1, -1, -1, -1, -1, -1, -1,\n",
       "       -1, -1, -1, -1, -1, -1, -1, -1, -1, -1, -1, -1, -1,  1,  1, -1, -1,\n",
       "        1, -1, -1, -1, -1,  1, -1, -1, -1,  1, -1, -1, -1, -1,  1, -1,  1,\n",
       "        1,  1,  1,  1,  1,  1,  1,  1,  1,  1,  1,  1,  1,  1,  1,  1,  1,\n",
       "        1,  1,  1,  1,  1,  1,  1,  1,  1,  1,  1,  1,  1,  1,  1,  1,  1,\n",
       "        1,  1,  1,  1,  1,  1,  1,  1,  1,  1,  1,  1,  1,  1,  1],\n",
       "      dtype=int64)"
      ]
     },
     "execution_count": 111,
     "metadata": {},
     "output_type": "execute_result"
    }
   ],
   "source": [
    "#判定求得小于0的索引下标\n",
    "loc_n = np.where(s<0)[0]\n",
    "#将相应索引的值色的顶为-1\n",
    "y_pred[loc_n] = -1\n",
    "y_pred"
   ]
  },
  {
   "cell_type": "markdown",
   "metadata": {},
   "source": [
    "接着，从分类错误的样本中选择一个，使用PLA更新权重系数$w$。"
   ]
  },
  {
   "cell_type": "code",
   "execution_count": 112,
   "metadata": {},
   "outputs": [
    {
     "data": {
      "text/plain": [
       "array([[ 0.68073321],\n",
       "       [-1.6410814 ],\n",
       "       [-0.72387757]])"
      ]
     },
     "execution_count": 112,
     "metadata": {},
     "output_type": "execute_result"
    }
   ],
   "source": [
    "w"
   ]
  },
  {
   "cell_type": "code",
   "execution_count": 114,
   "metadata": {},
   "outputs": [],
   "source": [
    "#对应元素判定，错误返回序列且返回第一个错误的点\n",
    "t = np.where(y != y_pred)[0][0]\n",
    "#更新权重\n",
    "w = w + y[t]*X[t, ].reshape((3,1))"
   ]
  },
  {
   "cell_type": "code",
   "execution_count": 115,
   "metadata": {},
   "outputs": [
    {
     "data": {
      "text/plain": [
       "array([[1.68073321],\n",
       "       [0.74165811],\n",
       "       [0.54479331]])"
      ]
     },
     "execution_count": 115,
     "metadata": {},
     "output_type": "execute_result"
    }
   ],
   "source": [
    "w"
   ]
  },
  {
   "cell_type": "markdown",
   "metadata": {},
   "source": [
    "### 迭代更新训练"
   ]
  },
  {
   "cell_type": "markdown",
   "metadata": {},
   "source": [
    "更新权重$w$是个迭代过程，只要存在分类错误的样本，就不断进行更新，直至所有的样本都分类正确。（注意，前提是正负样本完全可分）"
   ]
  },
  {
   "cell_type": "code",
   "execution_count": 120,
   "metadata": {},
   "outputs": [
    {
     "name": "stdout",
     "output_type": "stream",
     "text": [
      "第0次更新, 分类错误的点个数：89\n",
      "第1次更新, 分类错误的点个数：7\n",
      "第2次更新, 分类错误的点个数：12\n",
      "第3次更新, 分类错误的点个数：0\n"
     ]
    }
   ],
   "source": [
    "for i in range(100):\n",
    "    s = np.dot(X, w)\n",
    "    y_pred = np.ones_like(y)\n",
    "    loc_n = np.where(s<0)[0]\n",
    "    y_pred[loc_n] = -1\n",
    "    num_fault = len(np.where(y != y_pred)[0])\n",
    "    print(\"第%d次更新, 分类错误的点个数：%d\"%(i ,num_fault))\n",
    "    if num_fault == 0:\n",
    "        break\n",
    "    else:\n",
    "        t = np.where(y != y_pred)[0][0]\n",
    "        w = w + y[t]*X[t, ].reshape((3,1))"
   ]
  },
  {
   "cell_type": "markdown",
   "metadata": {},
   "source": [
    "迭代完毕后，得到更新后的权重系数$w$，绘制此时的分类直线是什么样子。"
   ]
  },
  {
   "cell_type": "code",
   "execution_count": 121,
   "metadata": {},
   "outputs": [
    {
     "data": {
      "image/png": "[encoded data removed]",
      "text/plain": [
       "<Figure size 432x288 with 1 Axes>"
      ]
     },
     "metadata": {},
     "output_type": "display_data"
    }
   ],
   "source": [
    "# 直线第一个坐标（x1，y1）\n",
    "x1 = -2\n",
    "y1 = -1 / w[2] * (w[0] * 1 + w[1] * x1)\n",
    "# 直线第二个坐标（x2，y2）\n",
    "x2 = 2\n",
    "y2 = -1 / w[2] * (w[0] * 1 + w[1] * x2)\n",
    "# 作图\n",
    "plt.scatter(X[:50, 1], X[:50, 2], color='blue', marker='o', label='Positive')\n",
    "plt.scatter(X[50:, 1], X[50:, 2], color='red', marker='x', label='Negative')\n",
    "plt.plot([x1,x2], [y1,y2],'r')\n",
    "plt.xlabel('Feature 1')\n",
    "plt.ylabel('Feature 2')\n",
    "plt.legend(loc = 'upper left')\n",
    "plt.show()"
   ]
  },
  {
   "cell_type": "markdown",
   "metadata": {},
   "source": [
    "其实，PLA算法的效率还算不错，只需要数次更新就能找到一条能将所有样本完全分类正确的分类线。所以得出结论，对于正负样本线性可分的情况，PLA能够在有限次迭代后得到正确的分类直线。"
   ]
  },
  {
   "cell_type": "markdown",
   "metadata": {},
   "source": [
    "## 5. PLA优化(Packet Algorithm)"
   ]
  },
  {
   "cell_type": "markdown",
   "metadata": {},
   "source": [
    "刚刚我们的数据是线性可分的，可以使用PCA来得到分类直线。但是，如果数据不是线性可分，即找不到一条直线能够将所有的正负样本完全分类正确，这种情况下，似乎PCA会永远更新迭代下去，却找不到正确的分类线。所以，对于数据不可分的情况，应该要对PLA进行改进、优化。"
   ]
  },
  {
   "cell_type": "markdown",
   "metadata": {},
   "source": [
    "**PLA优化的基本做法很简单，就是如果迭代更新后分类错误样本比前一次少，则更新权重系数$w$；没有减少则保持当前权重系数$w$不变。也就是说，可以把条件放松，即不苛求每个点都分类正确，而是容忍有错误点，取错误点的个数最少时的权重系数$w$。通常在有限的迭代次数里，都能保证得到最佳的分类线。**"
   ]
  },
  {
   "cell_type": "markdown",
   "metadata": {
    "collapsed": true
   },
   "source": [
    "### 导入数据"
   ]
  },
  {
   "cell_type": "markdown",
   "metadata": {},
   "source": [
    "数据集存放在'../data/'目录下，该数据集包含了100个样本，正负样本各50，特征维度为2。"
   ]
  },
  {
   "cell_type": "code",
   "execution_count": 133,
   "metadata": {},
   "outputs": [],
   "source": [
    "data = pd.read_csv('./data/data2.csv', header=None)\n",
    "# 样本输入，维度（100，2）\n",
    "X = data.iloc[:,:2].values\n",
    "# 样本输出，维度（100，）\n",
    "y = data.iloc[:,2].values"
   ]
  },
  {
   "cell_type": "markdown",
   "metadata": {},
   "source": [
    "### 数据分类与可视化"
   ]
  },
  {
   "cell_type": "markdown",
   "metadata": {},
   "source": [
    "下面我们在二维平面上绘出正负样本的分布情况。"
   ]
  },
  {
   "cell_type": "code",
   "execution_count": 134,
   "metadata": {},
   "outputs": [
    {
     "data": {
      "image/png": "[encoded data removed]",
      "text/plain": [
       "<Figure size 432x288 with 1 Axes>"
      ]
     },
     "metadata": {},
     "output_type": "display_data"
    }
   ],
   "source": [
    "import matplotlib.pyplot as plt\n",
    "\n",
    "plt.scatter(X[:50, 0], X[:50, 1], color='blue', marker='o', label='Positive')\n",
    "plt.scatter(X[50:, 0], X[50:, 1], color='red', marker='x', label='Negative')\n",
    "plt.xlabel('Feature 1')\n",
    "plt.ylabel('Feature 2')\n",
    "plt.legend(loc = 'upper left')\n",
    "plt.title('Original Data')\n",
    "plt.show()"
   ]
  },
  {
   "cell_type": "markdown",
   "metadata": {},
   "source": [
    "很明显，从图中可以看出，正类和负类样本并不是线性可分的。这时候，我们就需要对PCA进行改进，寻找合适的分类线。"
   ]
  },
  {
   "cell_type": "markdown",
   "metadata": {},
   "source": [
    "### 特征归一化"
   ]
  },
  {
   "cell_type": "code",
   "execution_count": 135,
   "metadata": {},
   "outputs": [
    {
     "data": {
      "image/png": "[encoded data removed]",
      "text/plain": [
       "<Figure size 432x288 with 1 Axes>"
      ]
     },
     "metadata": {},
     "output_type": "display_data"
    }
   ],
   "source": [
    "# 均值\n",
    "u = np.mean(X, axis=0)\n",
    "# 方差\n",
    "v = np.std(X, axis=0)\n",
    "\n",
    "X = (X - u) / v\n",
    "\n",
    "# 作图\n",
    "plt.scatter(X[:50, 0], X[:50, 1], color='blue', marker='o', label='Positive')\n",
    "plt.scatter(X[50:, 0], X[50:, 1], color='red', marker='x', label='Negative')\n",
    "plt.xlabel('Feature 1')\n",
    "plt.ylabel('Feature 2')\n",
    "plt.legend(loc = 'upper left')\n",
    "plt.title('Normalization data')\n",
    "plt.show()"
   ]
  },
  {
   "cell_type": "markdown",
   "metadata": {},
   "source": [
    "### 直线初始化"
   ]
  },
  {
   "cell_type": "code",
   "execution_count": 136,
   "metadata": {},
   "outputs": [],
   "source": [
    "# X加上偏置项\n",
    "X = np.hstack((np.ones((X.shape[0],1)), X))\n",
    "# 权重初始化\n",
    "w = np.random.randn(3,1)"
   ]
  },
  {
   "cell_type": "markdown",
   "metadata": {},
   "source": [
    "显示初始化直线位置"
   ]
  },
  {
   "cell_type": "code",
   "execution_count": 137,
   "metadata": {},
   "outputs": [
    {
     "data": {
      "image/png": "[encoded data removed]",
      "text/plain": [
       "<Figure size 432x288 with 1 Axes>"
      ]
     },
     "metadata": {},
     "output_type": "display_data"
    }
   ],
   "source": [
    "# 直线第一个坐标（x1，y1）\n",
    "x1 = -2\n",
    "y1 = -1 / w[2] * (w[0] * 1 + w[1] * x1)\n",
    "# 直线第二个坐标（x2，y2）\n",
    "x2 = 2\n",
    "y2 = -1 / w[2] * (w[0] * 1 + w[1] * x2)\n",
    "# 作图\n",
    "plt.scatter(X[:50, 1], X[:50, 2], color='blue', marker='o', label='Positive')\n",
    "plt.scatter(X[50:, 1], X[50:, 2], color='red', marker='x', label='Negative')\n",
    "plt.plot([x1,x2], [y1,y2],'r')\n",
    "plt.xlabel('Feature 1')\n",
    "plt.ylabel('Feature 2')\n",
    "plt.legend(loc = 'upper left')\n",
    "plt.show()"
   ]
  },
  {
   "cell_type": "markdown",
   "metadata": {},
   "source": [
    "### 迭代更新训练"
   ]
  },
  {
   "cell_type": "code",
   "execution_count": 138,
   "metadata": {},
   "outputs": [
    {
     "name": "stdout",
     "output_type": "stream",
     "text": [
      "第   0次更新，分类错误的点个数：  25\n",
      "第   1次更新，分类错误的点个数：  24\n",
      "第   2次更新，分类错误的点个数：  15\n",
      "第 3次更新，分类错误的点个数：15\n",
      "第 4次更新，分类错误的点个数：15\n",
      "第 5次更新，分类错误的点个数：15\n",
      "第 6次更新，分类错误的点个数：15\n",
      "第 7次更新，分类错误的点个数：15\n",
      "第 8次更新，分类错误的点个数：15\n",
      "第 9次更新，分类错误的点个数：15\n",
      "第10次更新，分类错误的点个数：15\n",
      "第11次更新，分类错误的点个数：15\n",
      "第12次更新，分类错误的点个数：15\n",
      "第13次更新，分类错误的点个数：15\n",
      "第14次更新，分类错误的点个数：15\n",
      "第15次更新，分类错误的点个数：15\n",
      "第16次更新，分类错误的点个数：15\n",
      "第17次更新，分类错误的点个数：15\n",
      "第18次更新，分类错误的点个数：15\n",
      "第19次更新，分类错误的点个数：15\n",
      "第20次更新，分类错误的点个数：15\n",
      "第21次更新，分类错误的点个数：15\n",
      "第22次更新，分类错误的点个数：15\n",
      "第23次更新，分类错误的点个数：15\n",
      "第24次更新，分类错误的点个数：15\n",
      "第25次更新，分类错误的点个数：15\n",
      "第26次更新，分类错误的点个数：15\n",
      "第27次更新，分类错误的点个数：15\n",
      "第28次更新，分类错误的点个数：15\n",
      "第29次更新，分类错误的点个数：15\n",
      "第30次更新，分类错误的点个数：15\n",
      "第31次更新，分类错误的点个数：15\n",
      "第32次更新，分类错误的点个数：15\n",
      "第33次更新，分类错误的点个数：15\n",
      "第34次更新，分类错误的点个数：15\n",
      "第35次更新，分类错误的点个数：15\n",
      "第36次更新，分类错误的点个数：15\n",
      "第37次更新，分类错误的点个数：15\n",
      "第38次更新，分类错误的点个数：15\n",
      "第39次更新，分类错误的点个数：15\n",
      "第40次更新，分类错误的点个数：15\n",
      "第41次更新，分类错误的点个数：15\n",
      "第42次更新，分类错误的点个数：15\n",
      "第43次更新，分类错误的点个数：15\n",
      "第44次更新，分类错误的点个数：15\n",
      "第45次更新，分类错误的点个数：15\n",
      "第46次更新，分类错误的点个数：15\n",
      "第47次更新，分类错误的点个数：15\n",
      "第48次更新，分类错误的点个数：15\n",
      "第49次更新，分类错误的点个数：15\n",
      "第50次更新，分类错误的点个数：15\n",
      "第51次更新，分类错误的点个数：15\n",
      "第52次更新，分类错误的点个数：15\n",
      "第53次更新，分类错误的点个数：15\n",
      "第54次更新，分类错误的点个数：15\n",
      "第55次更新，分类错误的点个数：15\n",
      "第56次更新，分类错误的点个数：15\n",
      "第57次更新，分类错误的点个数：15\n",
      "第58次更新，分类错误的点个数：15\n",
      "第59次更新，分类错误的点个数：15\n",
      "第60次更新，分类错误的点个数：15\n",
      "第61次更新，分类错误的点个数：15\n",
      "第62次更新，分类错误的点个数：15\n",
      "第63次更新，分类错误的点个数：15\n",
      "第64次更新，分类错误的点个数：15\n",
      "第65次更新，分类错误的点个数：15\n",
      "第66次更新，分类错误的点个数：15\n",
      "第67次更新，分类错误的点个数：15\n",
      "第68次更新，分类错误的点个数：15\n",
      "第69次更新，分类错误的点个数：15\n",
      "第70次更新，分类错误的点个数：15\n",
      "第71次更新，分类错误的点个数：15\n",
      "第72次更新，分类错误的点个数：15\n",
      "第73次更新，分类错误的点个数：15\n",
      "第74次更新，分类错误的点个数：15\n",
      "第75次更新，分类错误的点个数：15\n",
      "第76次更新，分类错误的点个数：15\n",
      "第77次更新，分类错误的点个数：15\n",
      "第78次更新，分类错误的点个数：15\n",
      "第79次更新，分类错误的点个数：15\n",
      "第80次更新，分类错误的点个数：15\n",
      "第81次更新，分类错误的点个数：15\n",
      "第82次更新，分类错误的点个数：15\n",
      "第83次更新，分类错误的点个数：15\n",
      "第84次更新，分类错误的点个数：15\n",
      "第85次更新，分类错误的点个数：15\n",
      "第86次更新，分类错误的点个数：15\n",
      "第87次更新，分类错误的点个数：15\n",
      "第88次更新，分类错误的点个数：15\n",
      "第89次更新，分类错误的点个数：15\n",
      "第90次更新，分类错误的点个数：15\n",
      "第91次更新，分类错误的点个数：15\n",
      "第92次更新，分类错误的点个数：15\n",
      "第93次更新，分类错误的点个数：15\n",
      "第94次更新，分类错误的点个数：15\n",
      "第95次更新，分类错误的点个数：15\n",
      "第96次更新，分类错误的点个数：15\n",
      "第97次更新，分类错误的点个数：15\n",
      "第98次更新，分类错误的点个数：15\n",
      "第99次更新，分类错误的点个数：15\n"
     ]
    }
   ],
   "source": [
    "for i in range(100):\n",
    "    s = np.dot(X, w)\n",
    "    y_pred = np.ones_like(y)\n",
    "    loc_n = np.where(s<0)[0]\n",
    "    y_pred[loc_n] = -1\n",
    "    num_fault = len(np.where(y != y_pred)[0])\n",
    "    \n",
    "    if num_fault == 0:\n",
    "        break\n",
    "    else:\n",
    "        r = np.random.choice(num_fault) #随机选择一个错误分类点\n",
    "        t = np.where(y != y_pred)[0][r]\n",
    "        w2 = w +y[t]*X[t, :].reshape((3,1))\n",
    "        \n",
    "        s = np.dot(X, w2)\n",
    "        y_pred = np.ones_like(y)\n",
    "        loc_n = np.where(s<0)[0]\n",
    "        y_pred[loc_n] = -1\n",
    "        num_fault2 = len(np.where(y != y_pred)[0])\n",
    "        if num_fault2 < num_fault:\n",
    "            w = w2\n",
    "            print(\"第%4d次更新，分类错误的点个数：%4d\" %(i, num_fault2))\n",
    "        else:\n",
    "            print(\"第%2d次更新，分类错误的点个数：%2d\" %(i, num_fault))"
   ]
  },
  {
   "cell_type": "markdown",
   "metadata": {},
   "source": [
    "迭代完毕后，得到更新后的权重系数$w$，绘制此时的分类直线是什么样子。"
   ]
  },
  {
   "cell_type": "code",
   "execution_count": 139,
   "metadata": {},
   "outputs": [
    {
     "data": {
      "image/png": "[encoded data removed]",
      "text/plain": [
       "<Figure size 432x288 with 1 Axes>"
      ]
     },
     "metadata": {},
     "output_type": "display_data"
    }
   ],
   "source": [
    "# 直线第一个坐标（x1，y1）\n",
    "x1 = -2\n",
    "y1 = -1 / w[2] * (w[0] * 1 + w[1] * x1)\n",
    "# 直线第二个坐标（x2，y2）\n",
    "x2 = 2\n",
    "y2 = -1 / w[2] * (w[0] * 1 + w[1] * x2)\n",
    "# 作图\n",
    "plt.scatter(X[:50, 1], X[:50, 2], color='blue', marker='o', label='Positive')\n",
    "plt.scatter(X[50:, 1], X[50:, 2], color='red', marker='x', label='Negative')\n",
    "plt.plot([x1,x2], [y1,y2],'r')\n",
    "plt.xlabel('Feature 1')\n",
    "plt.ylabel('Feature 2')\n",
    "plt.legend(loc = 'upper left')\n",
    "plt.show()"
   ]
  },
  {
   "cell_type": "markdown",
   "metadata": {
    "collapsed": true
   },
   "source": [
    "### 计算分类正确率："
   ]
  },
  {
   "cell_type": "code",
   "execution_count": 143,
   "metadata": {},
   "outputs": [
    {
     "name": "stdout",
     "output_type": "stream",
     "text": [
      "分类正确率0.85\n"
     ]
    }
   ],
   "source": [
    "s = np.dot(X, w)\n",
    "y_pred = np.ones_like(y)\n",
    "loc_n = np.where(s<0)[0]\n",
    "y_pred[loc_n] = -1\n",
    "num_fault = len(np.where(y != y_pred)[0])\n",
    "print(\"分类正确率\" + str(( len(y) - num_fault) / len(y)))"
   ]
  },
  {
   "cell_type": "markdown",
   "metadata": {},
   "source": [
    "### 注意："
   ]
  },
  {
   "cell_type": "markdown",
   "metadata": {},
   "source": [
    "经过实例验证，优化后的PLA算法不一定每次都能找到最优分类线。在足够的迭代次数下，使用一般的PCA算法，竟一般都能得到最佳的分类线，即使开始的时候，分类线会有所振荡。但最终都基本能寻找到最佳位置附近。这也是PCA算法的特点之一。下面是使用一般PLA算法处理非线性可分样本实例的效果。"
   ]
  },
  {
   "cell_type": "markdown",
   "metadata": {},
   "source": [
    "直线初始化"
   ]
  },
  {
   "cell_type": "code",
   "execution_count": 144,
   "metadata": {},
   "outputs": [
    {
     "data": {
      "image/png": "[encoded data removed]",
      "text/plain": [
       "<Figure size 432x288 with 1 Axes>"
      ]
     },
     "metadata": {},
     "output_type": "display_data"
    }
   ],
   "source": [
    "# 权重初始化\n",
    "w = np.random.randn(3,1)\n",
    "\n",
    "# 直线第一个坐标（x1，y1）\n",
    "x1 = -2\n",
    "y1 = -1 / w[2] * (w[0] * 1 + w[1] * x1)\n",
    "# 直线第二个坐标（x2，y2）\n",
    "x2 = 2\n",
    "y2 = -1 / w[2] * (w[0] * 1 + w[1] * x2)\n",
    "# 作图\n",
    "plt.scatter(X[:50, 1], X[:50, 2], color='blue', marker='o', label='Positive')\n",
    "plt.scatter(X[50:, 1], X[50:, 2], color='red', marker='x', label='Negative')\n",
    "plt.plot([x1,x2], [y1,y2],'r')\n",
    "plt.xlabel('Feature 1')\n",
    "plt.ylabel('Feature 2')\n",
    "plt.legend(loc = 'upper left')\n",
    "plt.show()"
   ]
  },
  {
   "cell_type": "markdown",
   "metadata": {},
   "source": [
    "迭代训练"
   ]
  },
  {
   "cell_type": "code",
   "execution_count": 146,
   "metadata": {},
   "outputs": [
    {
     "name": "stdout",
     "output_type": "stream",
     "text": [
      "第 0次更新，分类错误的点个数： 6\n",
      "第 1次更新，分类错误的点个数： 8\n",
      "第 2次更新，分类错误的点个数： 5\n",
      "第 3次更新，分类错误的点个数： 8\n",
      "第 4次更新，分类错误的点个数： 4\n",
      "第 5次更新，分类错误的点个数： 5\n",
      "第 6次更新，分类错误的点个数： 5\n",
      "第 7次更新，分类错误的点个数： 5\n",
      "第 8次更新，分类错误的点个数： 5\n",
      "第 9次更新，分类错误的点个数： 4\n",
      "第10次更新，分类错误的点个数： 6\n",
      "第11次更新，分类错误的点个数：10\n",
      "第12次更新，分类错误的点个数： 5\n",
      "第13次更新，分类错误的点个数： 5\n",
      "第14次更新，分类错误的点个数： 5\n",
      "第15次更新，分类错误的点个数： 5\n",
      "第16次更新，分类错误的点个数： 5\n",
      "第17次更新，分类错误的点个数： 4\n",
      "第18次更新，分类错误的点个数： 6\n",
      "第19次更新，分类错误的点个数： 8\n",
      "第20次更新，分类错误的点个数： 6\n",
      "第21次更新，分类错误的点个数： 8\n",
      "第22次更新，分类错误的点个数： 5\n",
      "第23次更新，分类错误的点个数： 8\n",
      "第24次更新，分类错误的点个数： 4\n",
      "第25次更新，分类错误的点个数： 5\n",
      "第26次更新，分类错误的点个数： 5\n",
      "第27次更新，分类错误的点个数： 5\n",
      "第28次更新，分类错误的点个数： 5\n",
      "第29次更新，分类错误的点个数： 4\n",
      "第30次更新，分类错误的点个数： 6\n",
      "第31次更新，分类错误的点个数：10\n",
      "第32次更新，分类错误的点个数： 5\n",
      "第33次更新，分类错误的点个数： 5\n",
      "第34次更新，分类错误的点个数： 5\n",
      "第35次更新，分类错误的点个数： 5\n",
      "第36次更新，分类错误的点个数： 5\n",
      "第37次更新，分类错误的点个数： 4\n",
      "第38次更新，分类错误的点个数： 6\n",
      "第39次更新，分类错误的点个数： 8\n",
      "第40次更新，分类错误的点个数： 6\n",
      "第41次更新，分类错误的点个数： 8\n",
      "第42次更新，分类错误的点个数： 5\n",
      "第43次更新，分类错误的点个数： 8\n",
      "第44次更新，分类错误的点个数： 4\n",
      "第45次更新，分类错误的点个数： 5\n",
      "第46次更新，分类错误的点个数： 5\n",
      "第47次更新，分类错误的点个数： 5\n",
      "第48次更新，分类错误的点个数： 5\n",
      "第49次更新，分类错误的点个数： 4\n",
      "第50次更新，分类错误的点个数： 6\n",
      "第51次更新，分类错误的点个数：10\n",
      "第52次更新，分类错误的点个数： 5\n",
      "第53次更新，分类错误的点个数： 5\n",
      "第54次更新，分类错误的点个数： 5\n",
      "第55次更新，分类错误的点个数： 5\n",
      "第56次更新，分类错误的点个数： 5\n",
      "第57次更新，分类错误的点个数： 4\n",
      "第58次更新，分类错误的点个数： 6\n",
      "第59次更新，分类错误的点个数： 8\n",
      "第60次更新，分类错误的点个数： 6\n",
      "第61次更新，分类错误的点个数： 8\n",
      "第62次更新，分类错误的点个数： 5\n",
      "第63次更新，分类错误的点个数： 8\n",
      "第64次更新，分类错误的点个数： 4\n",
      "第65次更新，分类错误的点个数： 5\n",
      "第66次更新，分类错误的点个数： 5\n",
      "第67次更新，分类错误的点个数： 5\n",
      "第68次更新，分类错误的点个数： 5\n",
      "第69次更新，分类错误的点个数： 4\n",
      "第70次更新，分类错误的点个数： 6\n",
      "第71次更新，分类错误的点个数：10\n",
      "第72次更新，分类错误的点个数： 5\n",
      "第73次更新，分类错误的点个数： 5\n",
      "第74次更新，分类错误的点个数： 5\n",
      "第75次更新，分类错误的点个数： 5\n",
      "第76次更新，分类错误的点个数： 5\n",
      "第77次更新，分类错误的点个数： 4\n",
      "第78次更新，分类错误的点个数： 6\n",
      "第79次更新，分类错误的点个数： 8\n",
      "第80次更新，分类错误的点个数： 6\n",
      "第81次更新，分类错误的点个数： 8\n",
      "第82次更新，分类错误的点个数： 5\n",
      "第83次更新，分类错误的点个数： 8\n",
      "第84次更新，分类错误的点个数： 4\n",
      "第85次更新，分类错误的点个数： 5\n",
      "第86次更新，分类错误的点个数： 5\n",
      "第87次更新，分类错误的点个数： 5\n",
      "第88次更新，分类错误的点个数： 5\n",
      "第89次更新，分类错误的点个数： 4\n",
      "第90次更新，分类错误的点个数： 6\n",
      "第91次更新，分类错误的点个数：10\n",
      "第92次更新，分类错误的点个数： 5\n",
      "第93次更新，分类错误的点个数： 5\n",
      "第94次更新，分类错误的点个数： 5\n",
      "第95次更新，分类错误的点个数： 5\n",
      "第96次更新，分类错误的点个数： 5\n",
      "第97次更新，分类错误的点个数： 4\n",
      "第98次更新，分类错误的点个数： 6\n",
      "第99次更新，分类错误的点个数： 8\n",
      "第100次更新，分类错误的点个数： 6\n",
      "第101次更新，分类错误的点个数： 8\n",
      "第102次更新，分类错误的点个数： 5\n",
      "第103次更新，分类错误的点个数： 8\n",
      "第104次更新，分类错误的点个数： 4\n",
      "第105次更新，分类错误的点个数： 5\n",
      "第106次更新，分类错误的点个数： 5\n",
      "第107次更新，分类错误的点个数： 5\n",
      "第108次更新，分类错误的点个数： 5\n",
      "第109次更新，分类错误的点个数： 4\n",
      "第110次更新，分类错误的点个数： 6\n",
      "第111次更新，分类错误的点个数：10\n",
      "第112次更新，分类错误的点个数： 5\n",
      "第113次更新，分类错误的点个数： 5\n",
      "第114次更新，分类错误的点个数： 5\n",
      "第115次更新，分类错误的点个数： 5\n",
      "第116次更新，分类错误的点个数： 5\n",
      "第117次更新，分类错误的点个数： 4\n",
      "第118次更新，分类错误的点个数： 6\n",
      "第119次更新，分类错误的点个数： 8\n",
      "第120次更新，分类错误的点个数： 6\n",
      "第121次更新，分类错误的点个数： 8\n",
      "第122次更新，分类错误的点个数： 5\n",
      "第123次更新，分类错误的点个数： 8\n",
      "第124次更新，分类错误的点个数： 4\n",
      "第125次更新，分类错误的点个数： 5\n",
      "第126次更新，分类错误的点个数： 5\n",
      "第127次更新，分类错误的点个数： 5\n",
      "第128次更新，分类错误的点个数： 5\n",
      "第129次更新，分类错误的点个数： 4\n",
      "第130次更新，分类错误的点个数： 6\n",
      "第131次更新，分类错误的点个数：10\n",
      "第132次更新，分类错误的点个数： 5\n",
      "第133次更新，分类错误的点个数： 5\n",
      "第134次更新，分类错误的点个数： 5\n",
      "第135次更新，分类错误的点个数： 5\n",
      "第136次更新，分类错误的点个数： 5\n",
      "第137次更新，分类错误的点个数： 4\n",
      "第138次更新，分类错误的点个数： 6\n",
      "第139次更新，分类错误的点个数： 8\n",
      "第140次更新，分类错误的点个数： 6\n",
      "第141次更新，分类错误的点个数： 8\n",
      "第142次更新，分类错误的点个数： 5\n",
      "第143次更新，分类错误的点个数： 8\n",
      "第144次更新，分类错误的点个数： 4\n",
      "第145次更新，分类错误的点个数： 5\n",
      "第146次更新，分类错误的点个数： 5\n",
      "第147次更新，分类错误的点个数： 5\n",
      "第148次更新，分类错误的点个数： 5\n",
      "第149次更新，分类错误的点个数： 4\n",
      "第150次更新，分类错误的点个数： 6\n",
      "第151次更新，分类错误的点个数：10\n",
      "第152次更新，分类错误的点个数： 5\n",
      "第153次更新，分类错误的点个数： 5\n",
      "第154次更新，分类错误的点个数： 5\n",
      "第155次更新，分类错误的点个数： 5\n",
      "第156次更新，分类错误的点个数： 5\n",
      "第157次更新，分类错误的点个数： 4\n",
      "第158次更新，分类错误的点个数： 6\n",
      "第159次更新，分类错误的点个数： 8\n",
      "第160次更新，分类错误的点个数： 6\n",
      "第161次更新，分类错误的点个数： 8\n",
      "第162次更新，分类错误的点个数： 5\n",
      "第163次更新，分类错误的点个数： 8\n",
      "第164次更新，分类错误的点个数： 4\n",
      "第165次更新，分类错误的点个数： 5\n",
      "第166次更新，分类错误的点个数： 5\n",
      "第167次更新，分类错误的点个数： 5\n",
      "第168次更新，分类错误的点个数： 5\n",
      "第169次更新，分类错误的点个数： 4\n",
      "第170次更新，分类错误的点个数： 6\n",
      "第171次更新，分类错误的点个数：10\n",
      "第172次更新，分类错误的点个数： 5\n",
      "第173次更新，分类错误的点个数： 5\n",
      "第174次更新，分类错误的点个数： 5\n",
      "第175次更新，分类错误的点个数： 5\n",
      "第176次更新，分类错误的点个数： 5\n",
      "第177次更新，分类错误的点个数： 4\n",
      "第178次更新，分类错误的点个数： 6\n",
      "第179次更新，分类错误的点个数： 8\n",
      "第180次更新，分类错误的点个数： 6\n",
      "第181次更新，分类错误的点个数： 8\n",
      "第182次更新，分类错误的点个数： 5\n",
      "第183次更新，分类错误的点个数： 8\n",
      "第184次更新，分类错误的点个数： 4\n",
      "第185次更新，分类错误的点个数： 5\n",
      "第186次更新，分类错误的点个数： 5\n",
      "第187次更新，分类错误的点个数： 5\n",
      "第188次更新，分类错误的点个数： 5\n",
      "第189次更新，分类错误的点个数： 4\n",
      "第190次更新，分类错误的点个数： 6\n",
      "第191次更新，分类错误的点个数：10\n",
      "第192次更新，分类错误的点个数： 5\n",
      "第193次更新，分类错误的点个数： 5\n",
      "第194次更新，分类错误的点个数： 5\n",
      "第195次更新，分类错误的点个数： 5\n",
      "第196次更新，分类错误的点个数： 5\n",
      "第197次更新，分类错误的点个数： 4\n",
      "第198次更新，分类错误的点个数： 6\n",
      "第199次更新，分类错误的点个数： 8\n",
      "第200次更新，分类错误的点个数： 6\n",
      "第201次更新，分类错误的点个数： 8\n",
      "第202次更新，分类错误的点个数： 5\n",
      "第203次更新，分类错误的点个数： 8\n",
      "第204次更新，分类错误的点个数： 4\n",
      "第205次更新，分类错误的点个数： 5\n",
      "第206次更新，分类错误的点个数： 5\n",
      "第207次更新，分类错误的点个数： 5\n",
      "第208次更新，分类错误的点个数： 5\n",
      "第209次更新，分类错误的点个数： 4\n",
      "第210次更新，分类错误的点个数： 6\n",
      "第211次更新，分类错误的点个数：10\n",
      "第212次更新，分类错误的点个数： 5\n",
      "第213次更新，分类错误的点个数： 5\n",
      "第214次更新，分类错误的点个数： 5\n",
      "第215次更新，分类错误的点个数： 5\n",
      "第216次更新，分类错误的点个数： 5\n",
      "第217次更新，分类错误的点个数： 4\n",
      "第218次更新，分类错误的点个数： 6\n",
      "第219次更新，分类错误的点个数： 8\n",
      "第220次更新，分类错误的点个数： 6\n",
      "第221次更新，分类错误的点个数： 8\n",
      "第222次更新，分类错误的点个数： 5\n",
      "第223次更新，分类错误的点个数： 8\n",
      "第224次更新，分类错误的点个数： 4\n",
      "第225次更新，分类错误的点个数： 5\n",
      "第226次更新，分类错误的点个数： 5\n",
      "第227次更新，分类错误的点个数： 5\n",
      "第228次更新，分类错误的点个数： 5\n",
      "第229次更新，分类错误的点个数： 4\n",
      "第230次更新，分类错误的点个数： 6\n",
      "第231次更新，分类错误的点个数：10\n",
      "第232次更新，分类错误的点个数： 5\n",
      "第233次更新，分类错误的点个数： 5\n",
      "第234次更新，分类错误的点个数： 5\n",
      "第235次更新，分类错误的点个数： 5\n",
      "第236次更新，分类错误的点个数： 5\n",
      "第237次更新，分类错误的点个数： 4\n",
      "第238次更新，分类错误的点个数： 6\n",
      "第239次更新，分类错误的点个数： 8\n",
      "第240次更新，分类错误的点个数： 6\n",
      "第241次更新，分类错误的点个数： 8\n",
      "第242次更新，分类错误的点个数： 5\n",
      "第243次更新，分类错误的点个数： 8\n",
      "第244次更新，分类错误的点个数： 4\n",
      "第245次更新，分类错误的点个数： 5\n",
      "第246次更新，分类错误的点个数： 5\n",
      "第247次更新，分类错误的点个数： 5\n",
      "第248次更新，分类错误的点个数： 5\n",
      "第249次更新，分类错误的点个数： 4\n",
      "第250次更新，分类错误的点个数： 6\n",
      "第251次更新，分类错误的点个数：10\n",
      "第252次更新，分类错误的点个数： 5\n",
      "第253次更新，分类错误的点个数： 5\n",
      "第254次更新，分类错误的点个数： 5\n",
      "第255次更新，分类错误的点个数： 5\n",
      "第256次更新，分类错误的点个数： 5\n",
      "第257次更新，分类错误的点个数： 4\n",
      "第258次更新，分类错误的点个数： 6\n",
      "第259次更新，分类错误的点个数： 8\n",
      "第260次更新，分类错误的点个数： 6\n",
      "第261次更新，分类错误的点个数： 8\n",
      "第262次更新，分类错误的点个数： 5\n",
      "第263次更新，分类错误的点个数： 8\n",
      "第264次更新，分类错误的点个数： 4\n",
      "第265次更新，分类错误的点个数： 5\n",
      "第266次更新，分类错误的点个数： 5\n",
      "第267次更新，分类错误的点个数： 5\n",
      "第268次更新，分类错误的点个数： 5\n",
      "第269次更新，分类错误的点个数： 4\n",
      "第270次更新，分类错误的点个数： 6\n",
      "第271次更新，分类错误的点个数：10\n",
      "第272次更新，分类错误的点个数： 5\n",
      "第273次更新，分类错误的点个数： 5\n",
      "第274次更新，分类错误的点个数： 5\n",
      "第275次更新，分类错误的点个数： 5\n",
      "第276次更新，分类错误的点个数： 5\n",
      "第277次更新，分类错误的点个数： 4\n",
      "第278次更新，分类错误的点个数： 6\n",
      "第279次更新，分类错误的点个数： 8\n",
      "第280次更新，分类错误的点个数： 6\n",
      "第281次更新，分类错误的点个数： 8\n",
      "第282次更新，分类错误的点个数： 5\n",
      "第283次更新，分类错误的点个数： 8\n",
      "第284次更新，分类错误的点个数： 4\n",
      "第285次更新，分类错误的点个数： 5\n",
      "第286次更新，分类错误的点个数： 5\n",
      "第287次更新，分类错误的点个数： 5\n",
      "第288次更新，分类错误的点个数： 5\n",
      "第289次更新，分类错误的点个数： 4\n",
      "第290次更新，分类错误的点个数： 6\n",
      "第291次更新，分类错误的点个数：10\n",
      "第292次更新，分类错误的点个数： 5\n",
      "第293次更新，分类错误的点个数： 5\n",
      "第294次更新，分类错误的点个数： 5\n",
      "第295次更新，分类错误的点个数： 5\n",
      "第296次更新，分类错误的点个数： 5\n",
      "第297次更新，分类错误的点个数： 4\n",
      "第298次更新，分类错误的点个数： 6\n",
      "第299次更新，分类错误的点个数： 8\n",
      "第300次更新，分类错误的点个数： 6\n",
      "第301次更新，分类错误的点个数： 8\n",
      "第302次更新，分类错误的点个数： 5\n",
      "第303次更新，分类错误的点个数： 8\n",
      "第304次更新，分类错误的点个数： 4\n",
      "第305次更新，分类错误的点个数： 5\n",
      "第306次更新，分类错误的点个数： 5\n",
      "第307次更新，分类错误的点个数： 5\n",
      "第308次更新，分类错误的点个数： 5\n",
      "第309次更新，分类错误的点个数： 4\n",
      "第310次更新，分类错误的点个数： 6\n",
      "第311次更新，分类错误的点个数：10\n",
      "第312次更新，分类错误的点个数： 5\n",
      "第313次更新，分类错误的点个数： 5\n",
      "第314次更新，分类错误的点个数： 5\n",
      "第315次更新，分类错误的点个数： 5\n",
      "第316次更新，分类错误的点个数： 5\n",
      "第317次更新，分类错误的点个数： 4\n",
      "第318次更新，分类错误的点个数： 6\n",
      "第319次更新，分类错误的点个数： 8\n",
      "第320次更新，分类错误的点个数： 6\n",
      "第321次更新，分类错误的点个数： 8\n",
      "第322次更新，分类错误的点个数： 5\n",
      "第323次更新，分类错误的点个数： 8\n",
      "第324次更新，分类错误的点个数： 4\n",
      "第325次更新，分类错误的点个数： 5\n",
      "第326次更新，分类错误的点个数： 5\n",
      "第327次更新，分类错误的点个数： 5\n",
      "第328次更新，分类错误的点个数： 5\n",
      "第329次更新，分类错误的点个数： 4\n",
      "第330次更新，分类错误的点个数： 6\n",
      "第331次更新，分类错误的点个数：10\n",
      "第332次更新，分类错误的点个数： 5\n",
      "第333次更新，分类错误的点个数： 5\n",
      "第334次更新，分类错误的点个数： 5\n",
      "第335次更新，分类错误的点个数： 5\n",
      "第336次更新，分类错误的点个数： 5\n",
      "第337次更新，分类错误的点个数： 4\n",
      "第338次更新，分类错误的点个数： 6\n",
      "第339次更新，分类错误的点个数： 8\n",
      "第340次更新，分类错误的点个数： 6\n",
      "第341次更新，分类错误的点个数： 8\n",
      "第342次更新，分类错误的点个数： 5\n",
      "第343次更新，分类错误的点个数： 8\n",
      "第344次更新，分类错误的点个数： 4\n",
      "第345次更新，分类错误的点个数： 5\n",
      "第346次更新，分类错误的点个数： 5\n",
      "第347次更新，分类错误的点个数： 5\n",
      "第348次更新，分类错误的点个数： 5\n",
      "第349次更新，分类错误的点个数： 4\n",
      "第350次更新，分类错误的点个数： 6\n",
      "第351次更新，分类错误的点个数：10\n",
      "第352次更新，分类错误的点个数： 5\n",
      "第353次更新，分类错误的点个数： 5\n",
      "第354次更新，分类错误的点个数： 5\n",
      "第355次更新，分类错误的点个数： 5\n",
      "第356次更新，分类错误的点个数： 5\n",
      "第357次更新，分类错误的点个数： 4\n",
      "第358次更新，分类错误的点个数： 6\n",
      "第359次更新，分类错误的点个数： 8\n",
      "第360次更新，分类错误的点个数： 6\n",
      "第361次更新，分类错误的点个数： 8\n",
      "第362次更新，分类错误的点个数： 5\n",
      "第363次更新，分类错误的点个数： 8\n",
      "第364次更新，分类错误的点个数： 4\n",
      "第365次更新，分类错误的点个数： 5\n",
      "第366次更新，分类错误的点个数： 5\n",
      "第367次更新，分类错误的点个数： 5\n",
      "第368次更新，分类错误的点个数： 5\n",
      "第369次更新，分类错误的点个数： 4\n",
      "第370次更新，分类错误的点个数： 6\n",
      "第371次更新，分类错误的点个数：10\n",
      "第372次更新，分类错误的点个数： 5\n",
      "第373次更新，分类错误的点个数： 5\n",
      "第374次更新，分类错误的点个数： 5\n",
      "第375次更新，分类错误的点个数： 5\n",
      "第376次更新，分类错误的点个数： 5\n",
      "第377次更新，分类错误的点个数： 4\n",
      "第378次更新，分类错误的点个数： 6\n",
      "第379次更新，分类错误的点个数： 8\n",
      "第380次更新，分类错误的点个数： 6\n",
      "第381次更新，分类错误的点个数： 8\n",
      "第382次更新，分类错误的点个数： 5\n",
      "第383次更新，分类错误的点个数： 8\n",
      "第384次更新，分类错误的点个数： 4\n",
      "第385次更新，分类错误的点个数： 5\n",
      "第386次更新，分类错误的点个数： 5\n",
      "第387次更新，分类错误的点个数： 5\n",
      "第388次更新，分类错误的点个数： 5\n",
      "第389次更新，分类错误的点个数： 4\n",
      "第390次更新，分类错误的点个数： 6\n",
      "第391次更新，分类错误的点个数：10\n",
      "第392次更新，分类错误的点个数： 5\n",
      "第393次更新，分类错误的点个数： 5\n",
      "第394次更新，分类错误的点个数： 5\n",
      "第395次更新，分类错误的点个数： 5\n",
      "第396次更新，分类错误的点个数： 5\n",
      "第397次更新，分类错误的点个数： 4\n",
      "第398次更新，分类错误的点个数： 6\n",
      "第399次更新，分类错误的点个数： 8\n",
      "第400次更新，分类错误的点个数： 6\n",
      "第401次更新，分类错误的点个数： 8\n",
      "第402次更新，分类错误的点个数： 5\n",
      "第403次更新，分类错误的点个数： 8\n",
      "第404次更新，分类错误的点个数： 4\n",
      "第405次更新，分类错误的点个数： 5\n",
      "第406次更新，分类错误的点个数： 5\n",
      "第407次更新，分类错误的点个数： 5\n",
      "第408次更新，分类错误的点个数： 5\n",
      "第409次更新，分类错误的点个数： 4\n",
      "第410次更新，分类错误的点个数： 6\n",
      "第411次更新，分类错误的点个数：10\n",
      "第412次更新，分类错误的点个数： 5\n",
      "第413次更新，分类错误的点个数： 5\n",
      "第414次更新，分类错误的点个数： 5\n",
      "第415次更新，分类错误的点个数： 5\n",
      "第416次更新，分类错误的点个数： 5\n",
      "第417次更新，分类错误的点个数： 4\n",
      "第418次更新，分类错误的点个数： 6\n",
      "第419次更新，分类错误的点个数： 8\n",
      "第420次更新，分类错误的点个数： 6\n",
      "第421次更新，分类错误的点个数： 8\n",
      "第422次更新，分类错误的点个数： 5\n",
      "第423次更新，分类错误的点个数： 8\n",
      "第424次更新，分类错误的点个数： 4\n",
      "第425次更新，分类错误的点个数： 5\n",
      "第426次更新，分类错误的点个数： 5\n",
      "第427次更新，分类错误的点个数： 5\n",
      "第428次更新，分类错误的点个数： 5\n",
      "第429次更新，分类错误的点个数： 4\n",
      "第430次更新，分类错误的点个数： 6\n",
      "第431次更新，分类错误的点个数：10\n",
      "第432次更新，分类错误的点个数： 5\n",
      "第433次更新，分类错误的点个数： 5\n",
      "第434次更新，分类错误的点个数： 5\n",
      "第435次更新，分类错误的点个数： 5\n",
      "第436次更新，分类错误的点个数： 5\n",
      "第437次更新，分类错误的点个数： 4\n",
      "第438次更新，分类错误的点个数： 6\n",
      "第439次更新，分类错误的点个数： 8\n",
      "第440次更新，分类错误的点个数： 6\n",
      "第441次更新，分类错误的点个数： 8\n",
      "第442次更新，分类错误的点个数： 5\n",
      "第443次更新，分类错误的点个数： 8\n",
      "第444次更新，分类错误的点个数： 4\n",
      "第445次更新，分类错误的点个数： 5\n",
      "第446次更新，分类错误的点个数： 5\n",
      "第447次更新，分类错误的点个数： 5\n",
      "第448次更新，分类错误的点个数： 5\n",
      "第449次更新，分类错误的点个数： 4\n",
      "第450次更新，分类错误的点个数： 6\n",
      "第451次更新，分类错误的点个数：10\n",
      "第452次更新，分类错误的点个数： 5\n",
      "第453次更新，分类错误的点个数： 5\n",
      "第454次更新，分类错误的点个数： 5\n",
      "第455次更新，分类错误的点个数： 5\n",
      "第456次更新，分类错误的点个数： 5\n",
      "第457次更新，分类错误的点个数： 4\n",
      "第458次更新，分类错误的点个数： 6\n",
      "第459次更新，分类错误的点个数： 8\n",
      "第460次更新，分类错误的点个数： 6\n",
      "第461次更新，分类错误的点个数： 8\n",
      "第462次更新，分类错误的点个数： 5\n",
      "第463次更新，分类错误的点个数： 8\n",
      "第464次更新，分类错误的点个数： 4\n",
      "第465次更新，分类错误的点个数： 5\n",
      "第466次更新，分类错误的点个数： 5\n",
      "第467次更新，分类错误的点个数： 5\n",
      "第468次更新，分类错误的点个数： 5\n",
      "第469次更新，分类错误的点个数： 4\n",
      "第470次更新，分类错误的点个数： 6\n",
      "第471次更新，分类错误的点个数：10\n",
      "第472次更新，分类错误的点个数： 5\n",
      "第473次更新，分类错误的点个数： 5\n",
      "第474次更新，分类错误的点个数： 5\n",
      "第475次更新，分类错误的点个数： 5\n",
      "第476次更新，分类错误的点个数： 5\n",
      "第477次更新，分类错误的点个数： 4\n",
      "第478次更新，分类错误的点个数： 6\n",
      "第479次更新，分类错误的点个数： 8\n",
      "第480次更新，分类错误的点个数： 6\n",
      "第481次更新，分类错误的点个数： 8\n",
      "第482次更新，分类错误的点个数： 5\n",
      "第483次更新，分类错误的点个数： 8\n",
      "第484次更新，分类错误的点个数： 4\n",
      "第485次更新，分类错误的点个数： 5\n",
      "第486次更新，分类错误的点个数： 5\n",
      "第487次更新，分类错误的点个数： 5\n",
      "第488次更新，分类错误的点个数： 5\n",
      "第489次更新，分类错误的点个数： 4\n",
      "第490次更新，分类错误的点个数： 6\n",
      "第491次更新，分类错误的点个数：10\n",
      "第492次更新，分类错误的点个数： 5\n",
      "第493次更新，分类错误的点个数： 5\n",
      "第494次更新，分类错误的点个数： 5\n",
      "第495次更新，分类错误的点个数： 5\n",
      "第496次更新，分类错误的点个数： 5\n",
      "第497次更新，分类错误的点个数： 4\n",
      "第498次更新，分类错误的点个数： 6\n",
      "第499次更新，分类错误的点个数： 8\n"
     ]
    }
   ],
   "source": [
    "for i in range(500):\n",
    "    s = np.dot(X, w)\n",
    "    y_pred = np.ones_like(y)\n",
    "    loc_n = np.where(s < 0)[0]\n",
    "    y_pred[loc_n] = -1\n",
    "    num_fault = len(np.where(y != y_pred)[0])\n",
    "    print('第%2d次更新，分类错误的点个数：%2d' % (i, num_fault))\n",
    "    if num_fault == 0:\n",
    "        break\n",
    "    else:\n",
    "        t = np.where(y != y_pred)[0][0]\n",
    "        w += y[t] * X[t, :].reshape((3,1))\n",
    "        "
   ]
  },
  {
   "cell_type": "markdown",
   "metadata": {},
   "source": [
    "迭代完毕后，得到更新后的权重系数$w$ ，绘制此时的分类直线是什么样子。"
   ]
  },
  {
   "cell_type": "code",
   "execution_count": 147,
   "metadata": {},
   "outputs": [
    {
     "data": {
      "image/png": "[encoded data removed]",
      "text/plain": [
       "<Figure size 432x288 with 1 Axes>"
      ]
     },
     "metadata": {},
     "output_type": "display_data"
    }
   ],
   "source": [
    "# 直线第一个坐标（x1，y1）\n",
    "x1 = -2\n",
    "y1 = -1 / w[2] * (w[0] * 1 + w[1] * x1)\n",
    "# 直线第二个坐标（x2，y2）\n",
    "x2 = 2\n",
    "y2 = -1 / w[2] * (w[0] * 1 + w[1] * x2)\n",
    "# 作图\n",
    "plt.scatter(X[:50, 1], X[:50, 2], color='blue', marker='o', label='Positive')\n",
    "plt.scatter(X[50:, 1], X[50:, 2], color='red', marker='x', label='Negative')\n",
    "plt.plot([x1,x2], [y1,y2],'r')\n",
    "plt.xlabel('Feature 1')\n",
    "plt.ylabel('Feature 2')\n",
    "plt.legend(loc = 'upper left')\n",
    "plt.show()"
   ]
  },
  {
   "cell_type": "markdown",
   "metadata": {},
   "source": [
    "计算分类正确率："
   ]
  },
  {
   "cell_type": "code",
   "execution_count": 148,
   "metadata": {},
   "outputs": [
    {
     "name": "stdout",
     "output_type": "stream",
     "text": [
      "accuracy: 0.94\n"
     ]
    }
   ],
   "source": [
    "s = np.dot(X, w)\n",
    "y_pred = np.ones_like(y)\n",
    "loc_n = np.where(s < 0)[0]\n",
    "y_pred[loc_n] = -1\n",
    "accuracy = len(np.where(y == y_pred)[0]) / len(y)\n",
    "print('accuracy: %.2f' % accuracy)"
   ]
  },
  {
   "cell_type": "markdown",
   "metadata": {},
   "source": [
    "## 总结"
   ]
  },
  {
   "cell_type": "markdown",
   "metadata": {},
   "source": [
    "PCA是机器学习最简单的算法之一。PCA处理线性可分问题，优化的PCA解决线性不可分的问题。实际验证表明，一般的PCA处理线性可分及线性不可分问题都有不错的表现，即一般能得到最佳的分类直线。"
   ]
  },
  {
   "cell_type": "code",
   "execution_count": null,
   "metadata": {
    "collapsed": true
   },
   "outputs": [],
   "source": []
  }
 ],
 "metadata": {
  "kernelspec": {
   "display_name": "Python 3",
   "language": "python",
   "name": "python3"
  },
  "language_info": {
   "codemirror_mode": {
    "name": "ipython",
    "version": 3
   },
   "file_extension": ".py",
   "mimetype": "text/x-python",
   "name": "python",
   "nbconvert_exporter": "python",
   "pygments_lexer": "ipython3",
   "version": "3.6.5"
  }
 },
 "nbformat": 4,
 "nbformat_minor": 2
}
