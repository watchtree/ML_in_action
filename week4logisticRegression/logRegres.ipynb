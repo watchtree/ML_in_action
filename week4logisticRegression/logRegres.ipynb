{
 "cells": [
  {
   "cell_type": "markdown",
   "metadata": {},
   "source": [
    "# logistic Regression"
   ]
  },
  {
   "cell_type": "markdown",
   "metadata": {},
   "source": [
    "## 梯度上升法\n",
    "\n",
    "**主要原理：** 梯度下降、sigmoid函数"
   ]
  },
  {
   "cell_type": "code",
   "execution_count": null,
   "metadata": {},
   "outputs": [],
   "source": [
    "import numpy as np"
   ]
  },
  {
   "cell_type": "code",
   "execution_count": 23,
   "metadata": {},
   "outputs": [],
   "source": [
    "#数据读取\n",
    "def loadDataSet():\n",
    "    dataMat = []\n",
    "    labelMat = []\n",
    "    with open('testSet.txt') as fr:\n",
    "        for line in fr.readlines():\n",
    "            lineArr = line.strip().split()\n",
    "            dataMat.append([1.0, float(lineArr[0]), float(lineArr[1])])\n",
    "            labelMat.append(int(lineArr[2]))\n",
    "    return dataMat, labelMat"
   ]
  },
  {
   "cell_type": "code",
   "execution_count": 24,
   "metadata": {},
   "outputs": [],
   "source": [
    "dataMat, labelMat = loadDataSet()"
   ]
  },
  {
   "cell_type": "code",
   "execution_count": 28,
   "metadata": {},
   "outputs": [
    {
     "data": {
      "text/plain": [
       "([[1.0, -0.017612, 14.053064],\n",
       "  [1.0, -1.395634, 4.662541],\n",
       "  [1.0, -0.752157, 6.53862],\n",
       "  [1.0, -1.322371, 7.152853],\n",
       "  [1.0, 0.423363, 11.054677],\n",
       "  [1.0, 0.406704, 7.067335],\n",
       "  [1.0, 0.667394, 12.741452],\n",
       "  [1.0, -2.46015, 6.866805],\n",
       "  [1.0, 0.569411, 9.548755],\n",
       "  [1.0, -0.026632, 10.427743],\n",
       "  [1.0, 0.850433, 6.920334],\n",
       "  [1.0, 1.347183, 13.1755],\n",
       "  [1.0, 1.176813, 3.16702],\n",
       "  [1.0, -1.781871, 9.097953],\n",
       "  [1.0, -0.566606, 5.749003],\n",
       "  [1.0, 0.931635, 1.589505],\n",
       "  [1.0, -0.024205, 6.151823],\n",
       "  [1.0, -0.036453, 2.690988],\n",
       "  [1.0, -0.196949, 0.444165],\n",
       "  [1.0, 1.014459, 5.754399],\n",
       "  [1.0, 1.985298, 3.230619],\n",
       "  [1.0, -1.693453, -0.55754],\n",
       "  [1.0, -0.576525, 11.778922],\n",
       "  [1.0, -0.346811, -1.67873],\n",
       "  [1.0, -2.124484, 2.672471],\n",
       "  [1.0, 1.217916, 9.597015],\n",
       "  [1.0, -0.733928, 9.098687],\n",
       "  [1.0, -3.642001, -1.618087],\n",
       "  [1.0, 0.315985, 3.523953],\n",
       "  [1.0, 1.416614, 9.619232],\n",
       "  [1.0, -0.386323, 3.989286],\n",
       "  [1.0, 0.556921, 8.294984],\n",
       "  [1.0, 1.224863, 11.58736],\n",
       "  [1.0, -1.347803, -2.406051],\n",
       "  [1.0, 1.196604, 4.951851],\n",
       "  [1.0, 0.275221, 9.543647],\n",
       "  [1.0, 0.470575, 9.332488],\n",
       "  [1.0, -1.889567, 9.542662],\n",
       "  [1.0, -1.527893, 12.150579],\n",
       "  [1.0, -1.185247, 11.309318],\n",
       "  [1.0, -0.445678, 3.297303],\n",
       "  [1.0, 1.042222, 6.105155],\n",
       "  [1.0, -0.618787, 10.320986],\n",
       "  [1.0, 1.152083, 0.548467],\n",
       "  [1.0, 0.828534, 2.676045],\n",
       "  [1.0, -1.237728, 10.549033],\n",
       "  [1.0, -0.683565, -2.166125],\n",
       "  [1.0, 0.229456, 5.921938],\n",
       "  [1.0, -0.959885, 11.555336],\n",
       "  [1.0, 0.492911, 10.993324],\n",
       "  [1.0, 0.184992, 8.721488],\n",
       "  [1.0, -0.355715, 10.325976],\n",
       "  [1.0, -0.397822, 8.058397],\n",
       "  [1.0, 0.824839, 13.730343],\n",
       "  [1.0, 1.507278, 5.027866],\n",
       "  [1.0, 0.099671, 6.835839],\n",
       "  [1.0, -0.344008, 10.717485],\n",
       "  [1.0, 1.785928, 7.718645],\n",
       "  [1.0, -0.918801, 11.560217],\n",
       "  [1.0, -0.364009, 4.7473],\n",
       "  [1.0, -0.841722, 4.119083],\n",
       "  [1.0, 0.490426, 1.960539],\n",
       "  [1.0, -0.007194, 9.075792],\n",
       "  [1.0, 0.356107, 12.447863],\n",
       "  [1.0, 0.342578, 12.281162],\n",
       "  [1.0, -0.810823, -1.466018],\n",
       "  [1.0, 2.530777, 6.476801],\n",
       "  [1.0, 1.296683, 11.607559],\n",
       "  [1.0, 0.475487, 12.040035],\n",
       "  [1.0, -0.783277, 11.009725],\n",
       "  [1.0, 0.074798, 11.02365],\n",
       "  [1.0, -1.337472, 0.468339],\n",
       "  [1.0, -0.102781, 13.763651],\n",
       "  [1.0, -0.147324, 2.874846],\n",
       "  [1.0, 0.518389, 9.887035],\n",
       "  [1.0, 1.015399, 7.571882],\n",
       "  [1.0, -1.658086, -0.027255],\n",
       "  [1.0, 1.319944, 2.171228],\n",
       "  [1.0, 2.056216, 5.019981],\n",
       "  [1.0, -0.851633, 4.375691],\n",
       "  [1.0, -1.510047, 6.061992],\n",
       "  [1.0, -1.076637, -3.181888],\n",
       "  [1.0, 1.821096, 10.28399],\n",
       "  [1.0, 3.01015, 8.401766],\n",
       "  [1.0, -1.099458, 1.688274],\n",
       "  [1.0, -0.834872, -1.733869],\n",
       "  [1.0, -0.846637, 3.849075],\n",
       "  [1.0, 1.400102, 12.628781],\n",
       "  [1.0, 1.752842, 5.468166],\n",
       "  [1.0, 0.078557, 0.059736],\n",
       "  [1.0, 0.089392, -0.7153],\n",
       "  [1.0, 1.825662, 12.693808],\n",
       "  [1.0, 0.197445, 9.744638],\n",
       "  [1.0, 0.126117, 0.922311],\n",
       "  [1.0, -0.679797, 1.22053],\n",
       "  [1.0, 0.677983, 2.556666],\n",
       "  [1.0, 0.761349, 10.693862],\n",
       "  [1.0, -2.168791, 0.143632],\n",
       "  [1.0, 1.38861, 9.341997],\n",
       "  [1.0, 0.317029, 14.739025]],\n",
       " [0,\n",
       "  1,\n",
       "  0,\n",
       "  0,\n",
       "  0,\n",
       "  1,\n",
       "  0,\n",
       "  1,\n",
       "  0,\n",
       "  0,\n",
       "  1,\n",
       "  0,\n",
       "  1,\n",
       "  0,\n",
       "  1,\n",
       "  1,\n",
       "  1,\n",
       "  1,\n",
       "  1,\n",
       "  1,\n",
       "  1,\n",
       "  1,\n",
       "  0,\n",
       "  1,\n",
       "  1,\n",
       "  0,\n",
       "  0,\n",
       "  1,\n",
       "  1,\n",
       "  0,\n",
       "  1,\n",
       "  1,\n",
       "  0,\n",
       "  1,\n",
       "  1,\n",
       "  0,\n",
       "  0,\n",
       "  0,\n",
       "  0,\n",
       "  0,\n",
       "  1,\n",
       "  1,\n",
       "  0,\n",
       "  1,\n",
       "  1,\n",
       "  0,\n",
       "  1,\n",
       "  1,\n",
       "  0,\n",
       "  0,\n",
       "  0,\n",
       "  0,\n",
       "  0,\n",
       "  0,\n",
       "  1,\n",
       "  1,\n",
       "  0,\n",
       "  1,\n",
       "  0,\n",
       "  1,\n",
       "  1,\n",
       "  1,\n",
       "  0,\n",
       "  0,\n",
       "  0,\n",
       "  1,\n",
       "  1,\n",
       "  0,\n",
       "  0,\n",
       "  0,\n",
       "  0,\n",
       "  1,\n",
       "  0,\n",
       "  1,\n",
       "  0,\n",
       "  0,\n",
       "  1,\n",
       "  1,\n",
       "  1,\n",
       "  1,\n",
       "  0,\n",
       "  1,\n",
       "  0,\n",
       "  1,\n",
       "  1,\n",
       "  1,\n",
       "  1,\n",
       "  0,\n",
       "  1,\n",
       "  1,\n",
       "  1,\n",
       "  0,\n",
       "  0,\n",
       "  1,\n",
       "  1,\n",
       "  1,\n",
       "  0,\n",
       "  1,\n",
       "  0,\n",
       "  0])"
      ]
     },
     "execution_count": 28,
     "metadata": {},
     "output_type": "execute_result"
    }
   ],
   "source": [
    "dataMat, labelMat"
   ]
  },
  {
   "cell_type": "code",
   "execution_count": 31,
   "metadata": {
    "scrolled": true
   },
   "outputs": [
    {
     "data": {
      "text/plain": [
       "matrix([[0],\n",
       "        [1],\n",
       "        [0],\n",
       "        [0],\n",
       "        [0],\n",
       "        [1],\n",
       "        [0],\n",
       "        [1],\n",
       "        [0],\n",
       "        [0],\n",
       "        [1],\n",
       "        [0],\n",
       "        [1],\n",
       "        [0],\n",
       "        [1],\n",
       "        [1],\n",
       "        [1],\n",
       "        [1],\n",
       "        [1],\n",
       "        [1],\n",
       "        [1],\n",
       "        [1],\n",
       "        [0],\n",
       "        [1],\n",
       "        [1],\n",
       "        [0],\n",
       "        [0],\n",
       "        [1],\n",
       "        [1],\n",
       "        [0],\n",
       "        [1],\n",
       "        [1],\n",
       "        [0],\n",
       "        [1],\n",
       "        [1],\n",
       "        [0],\n",
       "        [0],\n",
       "        [0],\n",
       "        [0],\n",
       "        [0],\n",
       "        [1],\n",
       "        [1],\n",
       "        [0],\n",
       "        [1],\n",
       "        [1],\n",
       "        [0],\n",
       "        [1],\n",
       "        [1],\n",
       "        [0],\n",
       "        [0],\n",
       "        [0],\n",
       "        [0],\n",
       "        [0],\n",
       "        [0],\n",
       "        [1],\n",
       "        [1],\n",
       "        [0],\n",
       "        [1],\n",
       "        [0],\n",
       "        [1],\n",
       "        [1],\n",
       "        [1],\n",
       "        [0],\n",
       "        [0],\n",
       "        [0],\n",
       "        [1],\n",
       "        [1],\n",
       "        [0],\n",
       "        [0],\n",
       "        [0],\n",
       "        [0],\n",
       "        [1],\n",
       "        [0],\n",
       "        [1],\n",
       "        [0],\n",
       "        [0],\n",
       "        [1],\n",
       "        [1],\n",
       "        [1],\n",
       "        [1],\n",
       "        [0],\n",
       "        [1],\n",
       "        [0],\n",
       "        [1],\n",
       "        [1],\n",
       "        [1],\n",
       "        [1],\n",
       "        [0],\n",
       "        [1],\n",
       "        [1],\n",
       "        [1],\n",
       "        [0],\n",
       "        [0],\n",
       "        [1],\n",
       "        [1],\n",
       "        [1],\n",
       "        [0],\n",
       "        [1],\n",
       "        [0],\n",
       "        [0]])"
      ]
     },
     "execution_count": 31,
     "metadata": {},
     "output_type": "execute_result"
    }
   ],
   "source": [
    "np.mat(labelMat).transpose()"
   ]
  },
  {
   "cell_type": "code",
   "execution_count": 32,
   "metadata": {},
   "outputs": [
    {
     "data": {
      "text/plain": [
       "matrix([[0, 1, 0, 0, 0, 1, 0, 1, 0, 0, 1, 0, 1, 0, 1, 1, 1, 1, 1, 1, 1,\n",
       "         1, 0, 1, 1, 0, 0, 1, 1, 0, 1, 1, 0, 1, 1, 0, 0, 0, 0, 0, 1, 1,\n",
       "         0, 1, 1, 0, 1, 1, 0, 0, 0, 0, 0, 0, 1, 1, 0, 1, 0, 1, 1, 1, 0,\n",
       "         0, 0, 1, 1, 0, 0, 0, 0, 1, 0, 1, 0, 0, 1, 1, 1, 1, 0, 1, 0, 1,\n",
       "         1, 1, 1, 0, 1, 1, 1, 0, 0, 1, 1, 1, 0, 1, 0, 0]])"
      ]
     },
     "execution_count": 32,
     "metadata": {},
     "output_type": "execute_result"
    }
   ],
   "source": [
    "np.mat(labelMat)"
   ]
  },
  {
   "cell_type": "code",
   "execution_count": 27,
   "metadata": {},
   "outputs": [],
   "source": [
    "#sigmoid函数\n",
    "def sigmoid(inX):\n",
    "    return 1.0/(1+np.exp(-inX))"
   ]
  },
  {
   "cell_type": "code",
   "execution_count": 159,
   "metadata": {},
   "outputs": [],
   "source": [
    "#梯度下降函数\n",
    "def gradAscent(dataMatIn, classLabels):\n",
    "    dataMatrix = np.mat(dataMatIn) #转化为np矩阵格式\n",
    "    labelMat = np.mat(classLabels).transpose()  #transpose对数组根据设定进行转置，将axis排列倒序，对整体装置\n",
    "    m, n = np.shape(dataMatrix)\n",
    "    alpha = 0.001\n",
    "    maxCycles = 500\n",
    "    weights = np.ones((n, 1))\n",
    "    for k in range(maxCycles):\n",
    "        h = sigmoid(dataMatrix*weights)\n",
    "        error = (labelMat - h)\n",
    "        weights = weights + alpha*dataMatrix.transpose()*error #梯度下降公式,，推导见吴恩达神经网络梯度下降推导\n",
    "    return np.array(weights)"
   ]
  },
  {
   "cell_type": "code",
   "execution_count": 160,
   "metadata": {},
   "outputs": [
    {
     "data": {
      "text/plain": [
       "array([[ 4.12414349],\n",
       "       [ 0.48007329],\n",
       "       [-0.6168482 ]])"
      ]
     },
     "execution_count": 160,
     "metadata": {},
     "output_type": "execute_result"
    }
   ],
   "source": [
    "dataMat, labelMat = loadDataSet()\n",
    "weights = gradAscent(dataMat, labelMat)\n",
    "weights"
   ]
  },
  {
   "cell_type": "code",
   "execution_count": 161,
   "metadata": {
    "scrolled": true
   },
   "outputs": [],
   "source": [
    "#利用图像分析数据与决策边界\n",
    "import matplotlib.pyplot as plt\n",
    "\n",
    "def plotBestFit(weights):\n",
    "    dataMat, labelMat = loadDataSet()\n",
    "    dataArr = np.array(dataMat)\n",
    "    n = np.shape(dataArr)[0]\n",
    "    xcord1 = []\n",
    "    ycord1 = []\n",
    "    xcord2 = []\n",
    "    ycord2 = []\n",
    "    for i in range(n):\n",
    "        if int(labelMat[i]) == 1:\n",
    "            xcord1.append(dataArr[i, 1])\n",
    "            ycord1.append(dataArr[i, 2])\n",
    "        else:\n",
    "            xcord2.append(dataArr[i, 1])\n",
    "            ycord2.append(dataArr[i, 2])\n",
    "\n",
    "    fig = plt.figure()\n",
    "    ax = fig.add_subplot(111)\n",
    "    ax.scatter(xcord1, ycord1, s = 30, c = 'red', marker = 's')\n",
    "    ax.scatter(xcord2, ycord2, s=30, c='green')\n",
    "    x1 = -3.0\n",
    "    x2 = 3.0\n",
    "    y1 = int((-weights[0]-weights[1]*x1)/weights[2])\n",
    "    y2 = int((-weights[0]-weights[1]*x2)/weights[2])\n",
    "    ax.plot([x1, x2], [y1, y2])\n",
    "    plt.xlabel('X1')\n",
    "    plt.ylabel('X2')\n",
    "    plt.show()"
   ]
  },
  {
   "cell_type": "code",
   "execution_count": 162,
   "metadata": {
    "scrolled": true
   },
   "outputs": [
    {
     "data": {
      "image/png": "[encoded data removed]",
      "text/plain": [
       "<Figure size 432x288 with 1 Axes>"
      ]
     },
     "metadata": {
      "needs_background": "light"
     },
     "output_type": "display_data"
    }
   ],
   "source": [
    "plotBestFit(weights)"
   ]
  },
  {
   "cell_type": "code",
   "execution_count": 166,
   "metadata": {},
   "outputs": [],
   "source": [
    "#训练算法：随机梯度上升\n",
    "def stogGradAscent0(dataMatrix, classLabels):\n",
    "    m, n = np.shape(dataMatrix)\n",
    "    alpha = 0.01\n",
    "    weights = np.ones(n)\n",
    "    for i in range(m):\n",
    "        h = sigmoid(sum(dataMatrix[i]*weights))\n",
    "        error = classLabels[i] - h\n",
    "        weights = weights + alpha*error*dataMatrix[i]\n",
    "    return weights"
   ]
  },
  {
   "cell_type": "code",
   "execution_count": 167,
   "metadata": {},
   "outputs": [
    {
     "data": {
      "image/png": "[encoded data removed]",
      "text/plain": [
       "<Figure size 432x288 with 1 Axes>"
      ]
     },
     "metadata": {
      "needs_background": "light"
     },
     "output_type": "display_data"
    }
   ],
   "source": [
    "dataMat, labelMat = loadDataSet()\n",
    "weights = stogGradAscent0(np.array(dataMat), labelMat)\n",
    "plotBestFit(weights)"
   ]
  },
  {
   "cell_type": "code",
   "execution_count": 168,
   "metadata": {},
   "outputs": [
    {
     "data": {
      "text/plain": [
       "array([ 1.01702007,  0.85914348, -0.36579921])"
      ]
     },
     "execution_count": 168,
     "metadata": {},
     "output_type": "execute_result"
    }
   ],
   "source": [
    "weights"
   ]
  },
  {
   "cell_type": "markdown",
   "metadata": {},
   "source": [
    "**改进的梯度随机下降法：存在一些不能正确分类的样本点，在每次迭代时引发系数的剧烈改变**"
   ]
  },
  {
   "cell_type": "code",
   "execution_count": 179,
   "metadata": {},
   "outputs": [],
   "source": [
    "def stogGradAscent1(dataMatrix, classLabels, numIter = 150):\n",
    "    m, n = np.shape(dataMatrix)\n",
    "    weights = np.ones(n)\n",
    "    m, n = np.shape(dataMatrix)\n",
    "    weights = np.ones(n)\n",
    "    for j in range(numIter):\n",
    "        dataIndex = list(range(m)) #生成一个m个样本大小的有序列表\n",
    "        for i in range(m):\n",
    "            alpha = 4/(1.0+j+i) + 0.001 #梯度下降衰减的方法改进随机梯度下降\n",
    "            randIndex = int(np.random.uniform(0, len(dataIndex))) #功能：从一个均匀分布[low,high)中随机采样并取整数，注意定义域是左闭右开，即包含low，不包含high.\n",
    "            \n",
    "            #针对样本里随机取得的randIndex作为随机下降的样本\n",
    "            h = sigmoid(sum(dataMatrix[randIndex]*weights))\n",
    "            error = classLabels[randIndex] - h\n",
    "            weights = weights + alpha * error * dataMatrix[randIndex]\n",
    "            del(dataIndex[randIndex])\n",
    "            #之后删除此样本的索引值，在当前一轮的梯度下降时不会重复利用此样本进行梯度下降\n",
    "    return weights"
   ]
  },
  {
   "cell_type": "markdown",
   "metadata": {},
   "source": [
    "**优化角度：** \n",
    "* 在alpha进行迭代时进行调整，缓解数据波动或者高频波动，并且保留常数项，使值不会减小到0，可以将阐述项作为一个超参数，适当增加，可以确保新的值获得更大的回归系数\n",
    "* 随机选取样本更新回归系数，减少周期性的波动"
   ]
  },
  {
   "cell_type": "code",
   "execution_count": 180,
   "metadata": {},
   "outputs": [
    {
     "data": {
      "image/png": "[encoded data removed]",
      "text/plain": [
       "<Figure size 432x288 with 1 Axes>"
      ]
     },
     "metadata": {
      "needs_background": "light"
     },
     "output_type": "display_data"
    }
   ],
   "source": [
    "dataMat, labelMat = loadDataSet()\n",
    "weights = stogGradAscent1(np.array(dataMat), labelMat)\n",
    "plotBestFit(weights)"
   ]
  },
  {
   "cell_type": "markdown",
   "metadata": {},
   "source": [
    "## 书中样例：疝气病预测病马的死亡率"
   ]
  },
  {
   "cell_type": "markdown",
   "metadata": {},
   "source": [
    "**书中知识点：** 缺失值处理\n",
    "* 使用特征的均值\n",
    "* 特殊值填充缺失值\n",
    "* 忽略缺失值样本\n",
    "* 使用相似样本的均值填补缺失值\n",
    "* 利用其他的机器学习算法进行预测"
   ]
  },
  {
   "cell_type": "code",
   "execution_count": 182,
   "metadata": {},
   "outputs": [],
   "source": [
    "#预测函数\n",
    "def classifyVector(inX, weights):\n",
    "    prob = sigmoid(sum(inX*weights))\n",
    "    if prob > 0.5: \n",
    "        return 1.0\n",
    "    else: \n",
    "        return 0.0"
   ]
  },
  {
   "cell_type": "code",
   "execution_count": 200,
   "metadata": {},
   "outputs": [
    {
     "name": "stderr",
     "output_type": "stream",
     "text": [
      "C:\\Users\\tree\\AppData\\Local\\conda\\conda\\envs\\tensorflow\\lib\\site-packages\\ipykernel_launcher.py:3: RuntimeWarning: overflow encountered in exp\n",
      "  This is separate from the ipykernel package so we can avoid doing imports until\n"
     ]
    },
    {
     "name": "stdout",
     "output_type": "stream",
     "text": [
      "测试集正确率：0.373134328358209\n"
     ]
    }
   ],
   "source": [
    "def colicTest():\n",
    "    #读取数据\n",
    "    with open('horseColicTraining.txt') as frTrain:\n",
    "        frTrainLines = frTrain.readlines()\n",
    "\n",
    "    trainingSet = []\n",
    "    trainingLabels = []\n",
    "    for line in frTrainLines:\n",
    "        currLine = line.strip().split('\\t')\n",
    "        lineArr = []\n",
    "        for i in range(21):\n",
    "            lineArr.append(float(currLine[i]))\n",
    "        trainingSet.append(lineArr)   \n",
    "        trainingLabels.append(float(currLine[21]))\n",
    "\n",
    "    #训练数据\n",
    "    trainWeights = stogGradAscent1(np.array(trainingSet), trainingLabels, 1000)\n",
    "\n",
    "    #测试样本\n",
    "    with open('horseColicTest.txt') as frTest:\n",
    "        frTestLines = frTest.readlines()\n",
    "\n",
    "    errorCount = 0\n",
    "    numTestVec = 0.0\n",
    "    for line in frTestLines:\n",
    "        numTestVec += 1.0\n",
    "        currLine = line.strip().split('\\t')\n",
    "        lineArr = []\n",
    "        for i in range(21):\n",
    "            lineArr = []\n",
    "            for i in range(21):\n",
    "                lineArr.append(float(currLine[i]))\n",
    "        if int(classifyVector(np.array(lineArr), trainWeights)) != int(currLine[21]):\n",
    "            errorCount += 1\n",
    "    errorRate = (float(errorCount)/numTestVec)\n",
    "    print(\"测试集正确率：\" + str(errorRate))\n",
    "    return errorRate"
   ]
  },
  {
   "cell_type": "code",
   "execution_count": 195,
   "metadata": {},
   "outputs": [
    {
     "name": "stdout",
     "output_type": "stream",
     "text": [
      "299\n",
      "21\n"
     ]
    }
   ],
   "source": [
    "print(len(trainingSet))  #299个样本\n",
    "print(len(trainingSet[0])) #21个特征"
   ]
  },
  {
   "cell_type": "code",
   "execution_count": 209,
   "metadata": {},
   "outputs": [],
   "source": [
    "def multiTest():\n",
    "    numTests = 10; errorSum = 0.0\n",
    "    for k in range(numTests):\n",
    "        errorSum += colicTest()\n",
    "    print(\"after %d iterations the average error rate is: %f\" % (numTests, errorSum/float(numTests)))"
   ]
  },
  {
   "cell_type": "code",
   "execution_count": 210,
   "metadata": {},
   "outputs": [
    {
     "name": "stderr",
     "output_type": "stream",
     "text": [
      "C:\\Users\\tree\\AppData\\Local\\conda\\conda\\envs\\tensorflow\\lib\\site-packages\\ipykernel_launcher.py:3: RuntimeWarning: overflow encountered in exp\n",
      "  This is separate from the ipykernel package so we can avoid doing imports until\n"
     ]
    },
    {
     "name": "stdout",
     "output_type": "stream",
     "text": [
      "the error rate of this test is: 0.313433\n",
      "the error rate of this test is: 0.402985\n",
      "the error rate of this test is: 0.328358\n",
      "the error rate of this test is: 0.313433\n",
      "the error rate of this test is: 0.402985\n",
      "the error rate of this test is: 0.388060\n",
      "the error rate of this test is: 0.268657\n",
      "the error rate of this test is: 0.313433\n",
      "the error rate of this test is: 0.343284\n",
      "the error rate of this test is: 0.328358\n",
      "after 10 iterations the average error rate is: 0.340299\n"
     ]
    }
   ],
   "source": [
    "multiTest()"
   ]
  },
  {
   "cell_type": "code",
   "execution_count": null,
   "metadata": {},
   "outputs": [],
   "source": []
  }
 ],
 "metadata": {
  "kernelspec": {
   "display_name": "tensorflow",
   "language": "python",
   "name": "tensorflow"
  },
  "language_info": {
   "codemirror_mode": {
    "name": "ipython",
    "version": 3
   },
   "file_extension": ".py",
   "mimetype": "text/x-python",
   "name": "python",
   "nbconvert_exporter": "python",
   "pygments_lexer": "ipython3",
   "version": "3.5.4"
  }
 },
 "nbformat": 4,
 "nbformat_minor": 2
}
